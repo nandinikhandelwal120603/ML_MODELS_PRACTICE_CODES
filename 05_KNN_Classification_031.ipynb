{
  "cells": [
    {
      "cell_type": "markdown",
      "metadata": {
        "id": "aRaI4Q369whV"
      },
      "source": [
        "#**Aim:** Use K-Nearest Neighbors (KNN) model for the Classification"
      ]
    },
    {
      "cell_type": "markdown",
      "metadata": {
        "id": "LGekhWG7RPBU"
      },
      "source": [
        "##**Theory**"
      ]
    },
    {
      "cell_type": "markdown",
      "metadata": {
        "id": "dQXxJtgwRTPj"
      },
      "source": [
        "K Nearest Neighbor algorithm falls under the Supervised Learning category and is used for classification (most commonly) and regression. It is a versatile algorithm also used for imputing missing values and resampling datasets. As the name (K Nearest Neighbor) suggests it considers K Nearest Neighbors (Data points) to predict the class or continuous value for the new Datapoint.\n",
        "\n",
        "K-NN is a non-parametric algorithm, which means it does not make any assumption on underlying data.\n",
        "KNN is also called a lazy learner algorithm because it does not learn from the training set immediately instead it stores the dataset and at the time of classification, it performs an action on the dataset."
      ]
    },
    {
      "cell_type": "markdown",
      "metadata": {
        "id": "rTUGIibASUpj"
      },
      "source": [
        "![image.png](data:image/png;base64,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)"
      ]
    },
    {
      "cell_type": "markdown",
      "metadata": {
        "id": "_iGYIA8zSWq7"
      },
      "source": [
        "Consider above diagram. Suppose there are two categories, i.e., Category A and Category B, and we have a new data point x1, so this data point will lie in which of these categories. To solve this type of problem, we need a K-NN algorithm. With the help of K-NN, we can easily identify the category or class of a particular dataset."
      ]
    },
    {
      "cell_type": "markdown",
      "metadata": {
        "id": "HKs7j9fdSlcY"
      },
      "source": [
        "**Steps in KNN implimentation.**\n",
        "\n",
        "\n",
        "Step-1: Select the number K of the neighbors\n",
        "\n",
        "Step-2: Calculate the Euclidean distance of K number of neighbors\n",
        "\n",
        "Step-3: Take the K nearest neighbors as per the calculated Euclidean distance.\n",
        "\n",
        "Step-4: Among these k neighbors, count the number of the data points in each category.\n",
        "\n",
        "Step-5: Assign the new data points to that category for which the number of the neighbor is maximum.\n",
        "\n",
        "Step-6: Model is ready."
      ]
    },
    {
      "cell_type": "markdown",
      "metadata": {
        "id": "UDRdqIg5Tf7y"
      },
      "source": [
        "**Advantages of KNN Algorithm:**\n",
        "\n",
        "It is simple to implement.\n",
        "\n",
        "It is robust to the noisy training data\n",
        "\n",
        "It can be more effective if the training data is large.\n",
        "\n",
        "**Disadvantages of KNN Algorithm:**\n",
        "\n",
        "Always needs to determine the value of K which may be complex some time.\n",
        "\n",
        "The computation cost is high because of calculating the distance between the data points for all the training samples."
      ]
    },
    {
      "cell_type": "markdown",
      "metadata": {
        "id": "miB3eJ-TTquD"
      },
      "source": [
        "##**Import necessary libraries**"
      ]
    },
    {
      "cell_type": "code",
      "execution_count": 2,
      "metadata": {
        "id": "nSImZ7-I9okw"
      },
      "outputs": [],
      "source": [
        "import numpy as np\n",
        "import pandas as pd\n",
        "import matplotlib.pyplot as plt\n",
        "import seaborn as sns"
      ]
    },
    {
      "cell_type": "code",
      "execution_count": 3,
      "metadata": {
        "colab": {
          "base_uri": "https://localhost:8080/"
        },
        "id": "ZVLiRFcf-hOB",
        "outputId": "b343953d-4023-459a-df59-756194df5f3f"
      },
      "outputs": [
        {
          "output_type": "stream",
          "name": "stdout",
          "text": [
            "Drive already mounted at /content/drive; to attempt to forcibly remount, call drive.mount(\"/content/drive\", force_remount=True).\n"
          ]
        }
      ],
      "source": [
        "from google.colab import drive\n",
        "drive.mount('/content/drive')"
      ]
    },
    {
      "cell_type": "markdown",
      "metadata": {
        "id": "gScPfgv-9ok1"
      },
      "source": [
        "## **Import Data**"
      ]
    },
    {
      "cell_type": "code",
      "execution_count": 4,
      "metadata": {
        "id": "2jHstmpM9ok2"
      },
      "outputs": [],
      "source": [
        "df = pd.read_csv('/content/drive/MyDrive/AIR_LAB_DATASETS/KNNAlgorithmDataset - KNNAlgorithmDataset.csv')"
      ]
    },
    {
      "cell_type": "code",
      "execution_count": 5,
      "metadata": {
        "colab": {
          "base_uri": "https://localhost:8080/",
          "height": 317
        },
        "id": "6hvW3NzR9ok4",
        "outputId": "b48c37b5-f616-4600-c3ec-0da56cdc1ca7"
      },
      "outputs": [
        {
          "output_type": "execute_result",
          "data": {
            "text/plain": [
              "         id diagnosis  radius_mean  texture_mean  perimeter_mean  area_mean  \\\n",
              "0    842302         M        17.99         10.38          122.80     1001.0   \n",
              "1    842517         M        20.57         17.77          132.90     1326.0   \n",
              "2  84300903         M        19.69         21.25          130.00     1203.0   \n",
              "3  84348301         M        11.42         20.38           77.58      386.1   \n",
              "4  84358402         M        20.29         14.34          135.10     1297.0   \n",
              "\n",
              "   smoothness_mean  compactness_mean  concavity_mean  concave points_mean  \\\n",
              "0          0.11840           0.27760          0.3001              0.14710   \n",
              "1          0.08474           0.07864          0.0869              0.07017   \n",
              "2          0.10960           0.15990          0.1974              0.12790   \n",
              "3          0.14250           0.28390          0.2414              0.10520   \n",
              "4          0.10030           0.13280          0.1980              0.10430   \n",
              "\n",
              "   ...  radius_worst  texture_worst  perimeter_worst  area_worst  \\\n",
              "0  ...         25.38          17.33           184.60      2019.0   \n",
              "1  ...         24.99          23.41           158.80      1956.0   \n",
              "2  ...         23.57          25.53           152.50      1709.0   \n",
              "3  ...         14.91          26.50            98.87       567.7   \n",
              "4  ...         22.54          16.67           152.20      1575.0   \n",
              "\n",
              "   smoothness_worst  compactness_worst  concavity_worst  concave points_worst  \\\n",
              "0            0.1622             0.6656           0.7119                0.2654   \n",
              "1            0.1238             0.1866           0.2416                0.1860   \n",
              "2            0.1444             0.4245           0.4504                0.2430   \n",
              "3            0.2098             0.8663           0.6869                0.2575   \n",
              "4            0.1374             0.2050           0.4000                0.1625   \n",
              "\n",
              "   symmetry_worst  fractal_dimension_worst  \n",
              "0          0.4601                  0.11890  \n",
              "1          0.2750                  0.08902  \n",
              "2          0.3613                  0.08758  \n",
              "3          0.6638                  0.17300  \n",
              "4          0.2364                  0.07678  \n",
              "\n",
              "[5 rows x 32 columns]"
            ],
            "text/html": [
              "\n",
              "  <div id=\"df-8c3ce533-7a23-402d-b944-82ee2fd3606f\">\n",
              "    <div class=\"colab-df-container\">\n",
              "      <div>\n",
              "<style scoped>\n",
              "    .dataframe tbody tr th:only-of-type {\n",
              "        vertical-align: middle;\n",
              "    }\n",
              "\n",
              "    .dataframe tbody tr th {\n",
              "        vertical-align: top;\n",
              "    }\n",
              "\n",
              "    .dataframe thead th {\n",
              "        text-align: right;\n",
              "    }\n",
              "</style>\n",
              "<table border=\"1\" class=\"dataframe\">\n",
              "  <thead>\n",
              "    <tr style=\"text-align: right;\">\n",
              "      <th></th>\n",
              "      <th>id</th>\n",
              "      <th>diagnosis</th>\n",
              "      <th>radius_mean</th>\n",
              "      <th>texture_mean</th>\n",
              "      <th>perimeter_mean</th>\n",
              "      <th>area_mean</th>\n",
              "      <th>smoothness_mean</th>\n",
              "      <th>compactness_mean</th>\n",
              "      <th>concavity_mean</th>\n",
              "      <th>concave points_mean</th>\n",
              "      <th>...</th>\n",
              "      <th>radius_worst</th>\n",
              "      <th>texture_worst</th>\n",
              "      <th>perimeter_worst</th>\n",
              "      <th>area_worst</th>\n",
              "      <th>smoothness_worst</th>\n",
              "      <th>compactness_worst</th>\n",
              "      <th>concavity_worst</th>\n",
              "      <th>concave points_worst</th>\n",
              "      <th>symmetry_worst</th>\n",
              "      <th>fractal_dimension_worst</th>\n",
              "    </tr>\n",
              "  </thead>\n",
              "  <tbody>\n",
              "    <tr>\n",
              "      <th>0</th>\n",
              "      <td>842302</td>\n",
              "      <td>M</td>\n",
              "      <td>17.99</td>\n",
              "      <td>10.38</td>\n",
              "      <td>122.80</td>\n",
              "      <td>1001.0</td>\n",
              "      <td>0.11840</td>\n",
              "      <td>0.27760</td>\n",
              "      <td>0.3001</td>\n",
              "      <td>0.14710</td>\n",
              "      <td>...</td>\n",
              "      <td>25.38</td>\n",
              "      <td>17.33</td>\n",
              "      <td>184.60</td>\n",
              "      <td>2019.0</td>\n",
              "      <td>0.1622</td>\n",
              "      <td>0.6656</td>\n",
              "      <td>0.7119</td>\n",
              "      <td>0.2654</td>\n",
              "      <td>0.4601</td>\n",
              "      <td>0.11890</td>\n",
              "    </tr>\n",
              "    <tr>\n",
              "      <th>1</th>\n",
              "      <td>842517</td>\n",
              "      <td>M</td>\n",
              "      <td>20.57</td>\n",
              "      <td>17.77</td>\n",
              "      <td>132.90</td>\n",
              "      <td>1326.0</td>\n",
              "      <td>0.08474</td>\n",
              "      <td>0.07864</td>\n",
              "      <td>0.0869</td>\n",
              "      <td>0.07017</td>\n",
              "      <td>...</td>\n",
              "      <td>24.99</td>\n",
              "      <td>23.41</td>\n",
              "      <td>158.80</td>\n",
              "      <td>1956.0</td>\n",
              "      <td>0.1238</td>\n",
              "      <td>0.1866</td>\n",
              "      <td>0.2416</td>\n",
              "      <td>0.1860</td>\n",
              "      <td>0.2750</td>\n",
              "      <td>0.08902</td>\n",
              "    </tr>\n",
              "    <tr>\n",
              "      <th>2</th>\n",
              "      <td>84300903</td>\n",
              "      <td>M</td>\n",
              "      <td>19.69</td>\n",
              "      <td>21.25</td>\n",
              "      <td>130.00</td>\n",
              "      <td>1203.0</td>\n",
              "      <td>0.10960</td>\n",
              "      <td>0.15990</td>\n",
              "      <td>0.1974</td>\n",
              "      <td>0.12790</td>\n",
              "      <td>...</td>\n",
              "      <td>23.57</td>\n",
              "      <td>25.53</td>\n",
              "      <td>152.50</td>\n",
              "      <td>1709.0</td>\n",
              "      <td>0.1444</td>\n",
              "      <td>0.4245</td>\n",
              "      <td>0.4504</td>\n",
              "      <td>0.2430</td>\n",
              "      <td>0.3613</td>\n",
              "      <td>0.08758</td>\n",
              "    </tr>\n",
              "    <tr>\n",
              "      <th>3</th>\n",
              "      <td>84348301</td>\n",
              "      <td>M</td>\n",
              "      <td>11.42</td>\n",
              "      <td>20.38</td>\n",
              "      <td>77.58</td>\n",
              "      <td>386.1</td>\n",
              "      <td>0.14250</td>\n",
              "      <td>0.28390</td>\n",
              "      <td>0.2414</td>\n",
              "      <td>0.10520</td>\n",
              "      <td>...</td>\n",
              "      <td>14.91</td>\n",
              "      <td>26.50</td>\n",
              "      <td>98.87</td>\n",
              "      <td>567.7</td>\n",
              "      <td>0.2098</td>\n",
              "      <td>0.8663</td>\n",
              "      <td>0.6869</td>\n",
              "      <td>0.2575</td>\n",
              "      <td>0.6638</td>\n",
              "      <td>0.17300</td>\n",
              "    </tr>\n",
              "    <tr>\n",
              "      <th>4</th>\n",
              "      <td>84358402</td>\n",
              "      <td>M</td>\n",
              "      <td>20.29</td>\n",
              "      <td>14.34</td>\n",
              "      <td>135.10</td>\n",
              "      <td>1297.0</td>\n",
              "      <td>0.10030</td>\n",
              "      <td>0.13280</td>\n",
              "      <td>0.1980</td>\n",
              "      <td>0.10430</td>\n",
              "      <td>...</td>\n",
              "      <td>22.54</td>\n",
              "      <td>16.67</td>\n",
              "      <td>152.20</td>\n",
              "      <td>1575.0</td>\n",
              "      <td>0.1374</td>\n",
              "      <td>0.2050</td>\n",
              "      <td>0.4000</td>\n",
              "      <td>0.1625</td>\n",
              "      <td>0.2364</td>\n",
              "      <td>0.07678</td>\n",
              "    </tr>\n",
              "  </tbody>\n",
              "</table>\n",
              "<p>5 rows × 32 columns</p>\n",
              "</div>\n",
              "      <button class=\"colab-df-convert\" onclick=\"convertToInteractive('df-8c3ce533-7a23-402d-b944-82ee2fd3606f')\"\n",
              "              title=\"Convert this dataframe to an interactive table.\"\n",
              "              style=\"display:none;\">\n",
              "        \n",
              "  <svg xmlns=\"http://www.w3.org/2000/svg\" height=\"24px\"viewBox=\"0 0 24 24\"\n",
              "       width=\"24px\">\n",
              "    <path d=\"M0 0h24v24H0V0z\" fill=\"none\"/>\n",
              "    <path d=\"M18.56 5.44l.94 2.06.94-2.06 2.06-.94-2.06-.94-.94-2.06-.94 2.06-2.06.94zm-11 1L8.5 8.5l.94-2.06 2.06-.94-2.06-.94L8.5 2.5l-.94 2.06-2.06.94zm10 10l.94 2.06.94-2.06 2.06-.94-2.06-.94-.94-2.06-.94 2.06-2.06.94z\"/><path d=\"M17.41 7.96l-1.37-1.37c-.4-.4-.92-.59-1.43-.59-.52 0-1.04.2-1.43.59L10.3 9.45l-7.72 7.72c-.78.78-.78 2.05 0 2.83L4 21.41c.39.39.9.59 1.41.59.51 0 1.02-.2 1.41-.59l7.78-7.78 2.81-2.81c.8-.78.8-2.07 0-2.86zM5.41 20L4 18.59l7.72-7.72 1.47 1.35L5.41 20z\"/>\n",
              "  </svg>\n",
              "      </button>\n",
              "      \n",
              "  <style>\n",
              "    .colab-df-container {\n",
              "      display:flex;\n",
              "      flex-wrap:wrap;\n",
              "      gap: 12px;\n",
              "    }\n",
              "\n",
              "    .colab-df-convert {\n",
              "      background-color: #E8F0FE;\n",
              "      border: none;\n",
              "      border-radius: 50%;\n",
              "      cursor: pointer;\n",
              "      display: none;\n",
              "      fill: #1967D2;\n",
              "      height: 32px;\n",
              "      padding: 0 0 0 0;\n",
              "      width: 32px;\n",
              "    }\n",
              "\n",
              "    .colab-df-convert:hover {\n",
              "      background-color: #E2EBFA;\n",
              "      box-shadow: 0px 1px 2px rgba(60, 64, 67, 0.3), 0px 1px 3px 1px rgba(60, 64, 67, 0.15);\n",
              "      fill: #174EA6;\n",
              "    }\n",
              "\n",
              "    [theme=dark] .colab-df-convert {\n",
              "      background-color: #3B4455;\n",
              "      fill: #D2E3FC;\n",
              "    }\n",
              "\n",
              "    [theme=dark] .colab-df-convert:hover {\n",
              "      background-color: #434B5C;\n",
              "      box-shadow: 0px 1px 3px 1px rgba(0, 0, 0, 0.15);\n",
              "      filter: drop-shadow(0px 1px 2px rgba(0, 0, 0, 0.3));\n",
              "      fill: #FFFFFF;\n",
              "    }\n",
              "  </style>\n",
              "\n",
              "      <script>\n",
              "        const buttonEl =\n",
              "          document.querySelector('#df-8c3ce533-7a23-402d-b944-82ee2fd3606f button.colab-df-convert');\n",
              "        buttonEl.style.display =\n",
              "          google.colab.kernel.accessAllowed ? 'block' : 'none';\n",
              "\n",
              "        async function convertToInteractive(key) {\n",
              "          const element = document.querySelector('#df-8c3ce533-7a23-402d-b944-82ee2fd3606f');\n",
              "          const dataTable =\n",
              "            await google.colab.kernel.invokeFunction('convertToInteractive',\n",
              "                                                     [key], {});\n",
              "          if (!dataTable) return;\n",
              "\n",
              "          const docLinkHtml = 'Like what you see? Visit the ' +\n",
              "            '<a target=\"_blank\" href=https://colab.research.google.com/notebooks/data_table.ipynb>data table notebook</a>'\n",
              "            + ' to learn more about interactive tables.';\n",
              "          element.innerHTML = '';\n",
              "          dataTable['output_type'] = 'display_data';\n",
              "          await google.colab.output.renderOutput(dataTable, element);\n",
              "          const docLink = document.createElement('div');\n",
              "          docLink.innerHTML = docLinkHtml;\n",
              "          element.appendChild(docLink);\n",
              "        }\n",
              "      </script>\n",
              "    </div>\n",
              "  </div>\n",
              "  "
            ]
          },
          "metadata": {},
          "execution_count": 5
        }
      ],
      "source": [
        "df.head()"
      ]
    },
    {
      "cell_type": "markdown",
      "metadata": {
        "id": "tlnHIbyrBN7_"
      },
      "source": [
        "##**Check null values count from data**"
      ]
    },
    {
      "cell_type": "code",
      "execution_count": 6,
      "metadata": {
        "colab": {
          "base_uri": "https://localhost:8080/"
        },
        "id": "kjtN5FdJBS_b",
        "outputId": "6a7a4832-81dd-49e9-8012-d1f92574c4b8"
      },
      "outputs": [
        {
          "output_type": "execute_result",
          "data": {
            "text/plain": [
              "id                         0\n",
              "diagnosis                  0\n",
              "radius_mean                0\n",
              "texture_mean               0\n",
              "perimeter_mean             0\n",
              "area_mean                  0\n",
              "smoothness_mean            0\n",
              "compactness_mean           0\n",
              "concavity_mean             0\n",
              "concave points_mean        0\n",
              "symmetry_mean              0\n",
              "fractal_dimension_mean     0\n",
              "radius_se                  0\n",
              "texture_se                 0\n",
              "perimeter_se               0\n",
              "area_se                    0\n",
              "smoothness_se              0\n",
              "compactness_se             0\n",
              "concavity_se               0\n",
              "concave points_se          0\n",
              "symmetry_se                0\n",
              "fractal_dimension_se       0\n",
              "radius_worst               0\n",
              "texture_worst              0\n",
              "perimeter_worst            0\n",
              "area_worst                 0\n",
              "smoothness_worst           0\n",
              "compactness_worst          0\n",
              "concavity_worst            0\n",
              "concave points_worst       0\n",
              "symmetry_worst             0\n",
              "fractal_dimension_worst    0\n",
              "dtype: int64"
            ]
          },
          "metadata": {},
          "execution_count": 6
        }
      ],
      "source": [
        "df.isna().sum()"
      ]
    },
    {
      "cell_type": "markdown",
      "metadata": {
        "id": "U4h20g2D_ToA"
      },
      "source": [
        "##**Drop null values coumns and 'id' column**"
      ]
    },
    {
      "cell_type": "code",
      "execution_count": 12,
      "metadata": {
        "id": "rhvIRRhE_Rro",
        "colab": {
          "base_uri": "https://localhost:8080/",
          "height": 323
        },
        "outputId": "8409348e-4c3a-46ac-b5d0-62ad43c19321"
      },
      "outputs": [
        {
          "output_type": "error",
          "ename": "KeyError",
          "evalue": "ignored",
          "traceback": [
            "\u001b[0;31m---------------------------------------------------------------------------\u001b[0m",
            "\u001b[0;31mKeyError\u001b[0m                                  Traceback (most recent call last)",
            "\u001b[0;32m<ipython-input-12-140e6dc0a97b>\u001b[0m in \u001b[0;36m<module>\u001b[0;34m\u001b[0m\n\u001b[0;32m----> 1\u001b[0;31m \u001b[0mdf\u001b[0m\u001b[0;34m.\u001b[0m\u001b[0mdrop\u001b[0m\u001b[0;34m(\u001b[0m\u001b[0mcolumns\u001b[0m\u001b[0;34m=\u001b[0m\u001b[0;34m[\u001b[0m\u001b[0;34m'id'\u001b[0m\u001b[0;34m]\u001b[0m\u001b[0;34m,\u001b[0m\u001b[0maxis\u001b[0m\u001b[0;34m=\u001b[0m\u001b[0;36m1\u001b[0m\u001b[0;34m,\u001b[0m\u001b[0minplace\u001b[0m\u001b[0;34m=\u001b[0m\u001b[0;32mTrue\u001b[0m\u001b[0;34m)\u001b[0m\u001b[0;34m\u001b[0m\u001b[0;34m\u001b[0m\u001b[0m\n\u001b[0m",
            "\u001b[0;32m/usr/local/lib/python3.9/dist-packages/pandas/util/_decorators.py\u001b[0m in \u001b[0;36mwrapper\u001b[0;34m(*args, **kwargs)\u001b[0m\n\u001b[1;32m    309\u001b[0m                     \u001b[0mstacklevel\u001b[0m\u001b[0;34m=\u001b[0m\u001b[0mstacklevel\u001b[0m\u001b[0;34m,\u001b[0m\u001b[0;34m\u001b[0m\u001b[0;34m\u001b[0m\u001b[0m\n\u001b[1;32m    310\u001b[0m                 )\n\u001b[0;32m--> 311\u001b[0;31m             \u001b[0;32mreturn\u001b[0m \u001b[0mfunc\u001b[0m\u001b[0;34m(\u001b[0m\u001b[0;34m*\u001b[0m\u001b[0margs\u001b[0m\u001b[0;34m,\u001b[0m \u001b[0;34m**\u001b[0m\u001b[0mkwargs\u001b[0m\u001b[0;34m)\u001b[0m\u001b[0;34m\u001b[0m\u001b[0;34m\u001b[0m\u001b[0m\n\u001b[0m\u001b[1;32m    312\u001b[0m \u001b[0;34m\u001b[0m\u001b[0m\n\u001b[1;32m    313\u001b[0m         \u001b[0;32mreturn\u001b[0m \u001b[0mwrapper\u001b[0m\u001b[0;34m\u001b[0m\u001b[0;34m\u001b[0m\u001b[0m\n",
            "\u001b[0;32m/usr/local/lib/python3.9/dist-packages/pandas/core/frame.py\u001b[0m in \u001b[0;36mdrop\u001b[0;34m(self, labels, axis, index, columns, level, inplace, errors)\u001b[0m\n\u001b[1;32m   4955\u001b[0m                 \u001b[0mweight\u001b[0m  \u001b[0;36m1.0\u001b[0m     \u001b[0;36m0.8\u001b[0m\u001b[0;34m\u001b[0m\u001b[0;34m\u001b[0m\u001b[0m\n\u001b[1;32m   4956\u001b[0m         \"\"\"\n\u001b[0;32m-> 4957\u001b[0;31m         return super().drop(\n\u001b[0m\u001b[1;32m   4958\u001b[0m             \u001b[0mlabels\u001b[0m\u001b[0;34m=\u001b[0m\u001b[0mlabels\u001b[0m\u001b[0;34m,\u001b[0m\u001b[0;34m\u001b[0m\u001b[0;34m\u001b[0m\u001b[0m\n\u001b[1;32m   4959\u001b[0m             \u001b[0maxis\u001b[0m\u001b[0;34m=\u001b[0m\u001b[0maxis\u001b[0m\u001b[0;34m,\u001b[0m\u001b[0;34m\u001b[0m\u001b[0;34m\u001b[0m\u001b[0m\n",
            "\u001b[0;32m/usr/local/lib/python3.9/dist-packages/pandas/core/generic.py\u001b[0m in \u001b[0;36mdrop\u001b[0;34m(self, labels, axis, index, columns, level, inplace, errors)\u001b[0m\n\u001b[1;32m   4265\u001b[0m         \u001b[0;32mfor\u001b[0m \u001b[0maxis\u001b[0m\u001b[0;34m,\u001b[0m \u001b[0mlabels\u001b[0m \u001b[0;32min\u001b[0m \u001b[0maxes\u001b[0m\u001b[0;34m.\u001b[0m\u001b[0mitems\u001b[0m\u001b[0;34m(\u001b[0m\u001b[0;34m)\u001b[0m\u001b[0;34m:\u001b[0m\u001b[0;34m\u001b[0m\u001b[0;34m\u001b[0m\u001b[0m\n\u001b[1;32m   4266\u001b[0m             \u001b[0;32mif\u001b[0m \u001b[0mlabels\u001b[0m \u001b[0;32mis\u001b[0m \u001b[0;32mnot\u001b[0m \u001b[0;32mNone\u001b[0m\u001b[0;34m:\u001b[0m\u001b[0;34m\u001b[0m\u001b[0;34m\u001b[0m\u001b[0m\n\u001b[0;32m-> 4267\u001b[0;31m                 \u001b[0mobj\u001b[0m \u001b[0;34m=\u001b[0m \u001b[0mobj\u001b[0m\u001b[0;34m.\u001b[0m\u001b[0m_drop_axis\u001b[0m\u001b[0;34m(\u001b[0m\u001b[0mlabels\u001b[0m\u001b[0;34m,\u001b[0m \u001b[0maxis\u001b[0m\u001b[0;34m,\u001b[0m \u001b[0mlevel\u001b[0m\u001b[0;34m=\u001b[0m\u001b[0mlevel\u001b[0m\u001b[0;34m,\u001b[0m \u001b[0merrors\u001b[0m\u001b[0;34m=\u001b[0m\u001b[0merrors\u001b[0m\u001b[0;34m)\u001b[0m\u001b[0;34m\u001b[0m\u001b[0;34m\u001b[0m\u001b[0m\n\u001b[0m\u001b[1;32m   4268\u001b[0m \u001b[0;34m\u001b[0m\u001b[0m\n\u001b[1;32m   4269\u001b[0m         \u001b[0;32mif\u001b[0m \u001b[0minplace\u001b[0m\u001b[0;34m:\u001b[0m\u001b[0;34m\u001b[0m\u001b[0;34m\u001b[0m\u001b[0m\n",
            "\u001b[0;32m/usr/local/lib/python3.9/dist-packages/pandas/core/generic.py\u001b[0m in \u001b[0;36m_drop_axis\u001b[0;34m(self, labels, axis, level, errors, consolidate, only_slice)\u001b[0m\n\u001b[1;32m   4309\u001b[0m                 \u001b[0mnew_axis\u001b[0m \u001b[0;34m=\u001b[0m \u001b[0maxis\u001b[0m\u001b[0;34m.\u001b[0m\u001b[0mdrop\u001b[0m\u001b[0;34m(\u001b[0m\u001b[0mlabels\u001b[0m\u001b[0;34m,\u001b[0m \u001b[0mlevel\u001b[0m\u001b[0;34m=\u001b[0m\u001b[0mlevel\u001b[0m\u001b[0;34m,\u001b[0m \u001b[0merrors\u001b[0m\u001b[0;34m=\u001b[0m\u001b[0merrors\u001b[0m\u001b[0;34m)\u001b[0m\u001b[0;34m\u001b[0m\u001b[0;34m\u001b[0m\u001b[0m\n\u001b[1;32m   4310\u001b[0m             \u001b[0;32melse\u001b[0m\u001b[0;34m:\u001b[0m\u001b[0;34m\u001b[0m\u001b[0;34m\u001b[0m\u001b[0m\n\u001b[0;32m-> 4311\u001b[0;31m                 \u001b[0mnew_axis\u001b[0m \u001b[0;34m=\u001b[0m \u001b[0maxis\u001b[0m\u001b[0;34m.\u001b[0m\u001b[0mdrop\u001b[0m\u001b[0;34m(\u001b[0m\u001b[0mlabels\u001b[0m\u001b[0;34m,\u001b[0m \u001b[0merrors\u001b[0m\u001b[0;34m=\u001b[0m\u001b[0merrors\u001b[0m\u001b[0;34m)\u001b[0m\u001b[0;34m\u001b[0m\u001b[0;34m\u001b[0m\u001b[0m\n\u001b[0m\u001b[1;32m   4312\u001b[0m             \u001b[0mindexer\u001b[0m \u001b[0;34m=\u001b[0m \u001b[0maxis\u001b[0m\u001b[0;34m.\u001b[0m\u001b[0mget_indexer\u001b[0m\u001b[0;34m(\u001b[0m\u001b[0mnew_axis\u001b[0m\u001b[0;34m)\u001b[0m\u001b[0;34m\u001b[0m\u001b[0;34m\u001b[0m\u001b[0m\n\u001b[1;32m   4313\u001b[0m \u001b[0;34m\u001b[0m\u001b[0m\n",
            "\u001b[0;32m/usr/local/lib/python3.9/dist-packages/pandas/core/indexes/base.py\u001b[0m in \u001b[0;36mdrop\u001b[0;34m(self, labels, errors)\u001b[0m\n\u001b[1;32m   6659\u001b[0m         \u001b[0;32mif\u001b[0m \u001b[0mmask\u001b[0m\u001b[0;34m.\u001b[0m\u001b[0many\u001b[0m\u001b[0;34m(\u001b[0m\u001b[0;34m)\u001b[0m\u001b[0;34m:\u001b[0m\u001b[0;34m\u001b[0m\u001b[0;34m\u001b[0m\u001b[0m\n\u001b[1;32m   6660\u001b[0m             \u001b[0;32mif\u001b[0m \u001b[0merrors\u001b[0m \u001b[0;34m!=\u001b[0m \u001b[0;34m\"ignore\"\u001b[0m\u001b[0;34m:\u001b[0m\u001b[0;34m\u001b[0m\u001b[0;34m\u001b[0m\u001b[0m\n\u001b[0;32m-> 6661\u001b[0;31m                 \u001b[0;32mraise\u001b[0m \u001b[0mKeyError\u001b[0m\u001b[0;34m(\u001b[0m\u001b[0;34mf\"{list(labels[mask])} not found in axis\"\u001b[0m\u001b[0;34m)\u001b[0m\u001b[0;34m\u001b[0m\u001b[0;34m\u001b[0m\u001b[0m\n\u001b[0m\u001b[1;32m   6662\u001b[0m             \u001b[0mindexer\u001b[0m \u001b[0;34m=\u001b[0m \u001b[0mindexer\u001b[0m\u001b[0;34m[\u001b[0m\u001b[0;34m~\u001b[0m\u001b[0mmask\u001b[0m\u001b[0;34m]\u001b[0m\u001b[0;34m\u001b[0m\u001b[0;34m\u001b[0m\u001b[0m\n\u001b[1;32m   6663\u001b[0m         \u001b[0;32mreturn\u001b[0m \u001b[0mself\u001b[0m\u001b[0;34m.\u001b[0m\u001b[0mdelete\u001b[0m\u001b[0;34m(\u001b[0m\u001b[0mindexer\u001b[0m\u001b[0;34m)\u001b[0m\u001b[0;34m\u001b[0m\u001b[0;34m\u001b[0m\u001b[0m\n",
            "\u001b[0;31mKeyError\u001b[0m: \"['id'] not found in axis\""
          ]
        }
      ],
      "source": [
        "df.drop(columns=['id'],axis=1,inplace=True)"
      ]
    },
    {
      "cell_type": "markdown",
      "metadata": {
        "id": "Px8lbw4IBwx4"
      },
      "source": [
        "##**Convert categorical variable columns into numerical data using Label Encoader**"
      ]
    },
    {
      "cell_type": "code",
      "execution_count": 13,
      "metadata": {
        "colab": {
          "base_uri": "https://localhost:8080/",
          "height": 505
        },
        "id": "0SFPMoSrAbbY",
        "outputId": "1131a4c8-5838-40b2-c70c-2de660165177"
      },
      "outputs": [
        {
          "output_type": "execute_result",
          "data": {
            "text/plain": [
              "    diagnosis  radius_mean  texture_mean  perimeter_mean  area_mean  \\\n",
              "0           M        17.99         10.38          122.80     1001.0   \n",
              "1           M        20.57         17.77          132.90     1326.0   \n",
              "2           M        19.69         21.25          130.00     1203.0   \n",
              "3           M        11.42         20.38           77.58      386.1   \n",
              "4           M        20.29         14.34          135.10     1297.0   \n",
              "..        ...          ...           ...             ...        ...   \n",
              "564         M        21.56         22.39          142.00     1479.0   \n",
              "565         M        20.13         28.25          131.20     1261.0   \n",
              "566         M        16.60         28.08          108.30      858.1   \n",
              "567         M        20.60         29.33          140.10     1265.0   \n",
              "568         B         7.76         24.54           47.92      181.0   \n",
              "\n",
              "     smoothness_mean  compactness_mean  concavity_mean  concave points_mean  \\\n",
              "0            0.11840           0.27760         0.30010              0.14710   \n",
              "1            0.08474           0.07864         0.08690              0.07017   \n",
              "2            0.10960           0.15990         0.19740              0.12790   \n",
              "3            0.14250           0.28390         0.24140              0.10520   \n",
              "4            0.10030           0.13280         0.19800              0.10430   \n",
              "..               ...               ...             ...                  ...   \n",
              "564          0.11100           0.11590         0.24390              0.13890   \n",
              "565          0.09780           0.10340         0.14400              0.09791   \n",
              "566          0.08455           0.10230         0.09251              0.05302   \n",
              "567          0.11780           0.27700         0.35140              0.15200   \n",
              "568          0.05263           0.04362         0.00000              0.00000   \n",
              "\n",
              "     symmetry_mean  ...  texture_worst  perimeter_worst  area_worst  \\\n",
              "0           0.2419  ...          17.33           184.60      2019.0   \n",
              "1           0.1812  ...          23.41           158.80      1956.0   \n",
              "2           0.2069  ...          25.53           152.50      1709.0   \n",
              "3           0.2597  ...          26.50            98.87       567.7   \n",
              "4           0.1809  ...          16.67           152.20      1575.0   \n",
              "..             ...  ...            ...              ...         ...   \n",
              "564         0.1726  ...          26.40           166.10      2027.0   \n",
              "565         0.1752  ...          38.25           155.00      1731.0   \n",
              "566         0.1590  ...          34.12           126.70      1124.0   \n",
              "567         0.2397  ...          39.42           184.60      1821.0   \n",
              "568         0.1587  ...          30.37            59.16       268.6   \n",
              "\n",
              "     smoothness_worst  compactness_worst  concavity_worst  \\\n",
              "0             0.16220            0.66560           0.7119   \n",
              "1             0.12380            0.18660           0.2416   \n",
              "2             0.14440            0.42450           0.4504   \n",
              "3             0.20980            0.86630           0.6869   \n",
              "4             0.13740            0.20500           0.4000   \n",
              "..                ...                ...              ...   \n",
              "564           0.14100            0.21130           0.4107   \n",
              "565           0.11660            0.19220           0.3215   \n",
              "566           0.11390            0.30940           0.3403   \n",
              "567           0.16500            0.86810           0.9387   \n",
              "568           0.08996            0.06444           0.0000   \n",
              "\n",
              "     concave points_worst  symmetry_worst  fractal_dimension_worst  \\\n",
              "0                  0.2654          0.4601                  0.11890   \n",
              "1                  0.1860          0.2750                  0.08902   \n",
              "2                  0.2430          0.3613                  0.08758   \n",
              "3                  0.2575          0.6638                  0.17300   \n",
              "4                  0.1625          0.2364                  0.07678   \n",
              "..                    ...             ...                      ...   \n",
              "564                0.2216          0.2060                  0.07115   \n",
              "565                0.1628          0.2572                  0.06637   \n",
              "566                0.1418          0.2218                  0.07820   \n",
              "567                0.2650          0.4087                  0.12400   \n",
              "568                0.0000          0.2871                  0.07039   \n",
              "\n",
              "     diagnosis_Labels  \n",
              "0                   1  \n",
              "1                   1  \n",
              "2                   1  \n",
              "3                   1  \n",
              "4                   1  \n",
              "..                ...  \n",
              "564                 1  \n",
              "565                 1  \n",
              "566                 1  \n",
              "567                 1  \n",
              "568                 0  \n",
              "\n",
              "[569 rows x 32 columns]"
            ],
            "text/html": [
              "\n",
              "  <div id=\"df-bd403a38-1377-41fb-adcd-831673404134\">\n",
              "    <div class=\"colab-df-container\">\n",
              "      <div>\n",
              "<style scoped>\n",
              "    .dataframe tbody tr th:only-of-type {\n",
              "        vertical-align: middle;\n",
              "    }\n",
              "\n",
              "    .dataframe tbody tr th {\n",
              "        vertical-align: top;\n",
              "    }\n",
              "\n",
              "    .dataframe thead th {\n",
              "        text-align: right;\n",
              "    }\n",
              "</style>\n",
              "<table border=\"1\" class=\"dataframe\">\n",
              "  <thead>\n",
              "    <tr style=\"text-align: right;\">\n",
              "      <th></th>\n",
              "      <th>diagnosis</th>\n",
              "      <th>radius_mean</th>\n",
              "      <th>texture_mean</th>\n",
              "      <th>perimeter_mean</th>\n",
              "      <th>area_mean</th>\n",
              "      <th>smoothness_mean</th>\n",
              "      <th>compactness_mean</th>\n",
              "      <th>concavity_mean</th>\n",
              "      <th>concave points_mean</th>\n",
              "      <th>symmetry_mean</th>\n",
              "      <th>...</th>\n",
              "      <th>texture_worst</th>\n",
              "      <th>perimeter_worst</th>\n",
              "      <th>area_worst</th>\n",
              "      <th>smoothness_worst</th>\n",
              "      <th>compactness_worst</th>\n",
              "      <th>concavity_worst</th>\n",
              "      <th>concave points_worst</th>\n",
              "      <th>symmetry_worst</th>\n",
              "      <th>fractal_dimension_worst</th>\n",
              "      <th>diagnosis_Labels</th>\n",
              "    </tr>\n",
              "  </thead>\n",
              "  <tbody>\n",
              "    <tr>\n",
              "      <th>0</th>\n",
              "      <td>M</td>\n",
              "      <td>17.99</td>\n",
              "      <td>10.38</td>\n",
              "      <td>122.80</td>\n",
              "      <td>1001.0</td>\n",
              "      <td>0.11840</td>\n",
              "      <td>0.27760</td>\n",
              "      <td>0.30010</td>\n",
              "      <td>0.14710</td>\n",
              "      <td>0.2419</td>\n",
              "      <td>...</td>\n",
              "      <td>17.33</td>\n",
              "      <td>184.60</td>\n",
              "      <td>2019.0</td>\n",
              "      <td>0.16220</td>\n",
              "      <td>0.66560</td>\n",
              "      <td>0.7119</td>\n",
              "      <td>0.2654</td>\n",
              "      <td>0.4601</td>\n",
              "      <td>0.11890</td>\n",
              "      <td>1</td>\n",
              "    </tr>\n",
              "    <tr>\n",
              "      <th>1</th>\n",
              "      <td>M</td>\n",
              "      <td>20.57</td>\n",
              "      <td>17.77</td>\n",
              "      <td>132.90</td>\n",
              "      <td>1326.0</td>\n",
              "      <td>0.08474</td>\n",
              "      <td>0.07864</td>\n",
              "      <td>0.08690</td>\n",
              "      <td>0.07017</td>\n",
              "      <td>0.1812</td>\n",
              "      <td>...</td>\n",
              "      <td>23.41</td>\n",
              "      <td>158.80</td>\n",
              "      <td>1956.0</td>\n",
              "      <td>0.12380</td>\n",
              "      <td>0.18660</td>\n",
              "      <td>0.2416</td>\n",
              "      <td>0.1860</td>\n",
              "      <td>0.2750</td>\n",
              "      <td>0.08902</td>\n",
              "      <td>1</td>\n",
              "    </tr>\n",
              "    <tr>\n",
              "      <th>2</th>\n",
              "      <td>M</td>\n",
              "      <td>19.69</td>\n",
              "      <td>21.25</td>\n",
              "      <td>130.00</td>\n",
              "      <td>1203.0</td>\n",
              "      <td>0.10960</td>\n",
              "      <td>0.15990</td>\n",
              "      <td>0.19740</td>\n",
              "      <td>0.12790</td>\n",
              "      <td>0.2069</td>\n",
              "      <td>...</td>\n",
              "      <td>25.53</td>\n",
              "      <td>152.50</td>\n",
              "      <td>1709.0</td>\n",
              "      <td>0.14440</td>\n",
              "      <td>0.42450</td>\n",
              "      <td>0.4504</td>\n",
              "      <td>0.2430</td>\n",
              "      <td>0.3613</td>\n",
              "      <td>0.08758</td>\n",
              "      <td>1</td>\n",
              "    </tr>\n",
              "    <tr>\n",
              "      <th>3</th>\n",
              "      <td>M</td>\n",
              "      <td>11.42</td>\n",
              "      <td>20.38</td>\n",
              "      <td>77.58</td>\n",
              "      <td>386.1</td>\n",
              "      <td>0.14250</td>\n",
              "      <td>0.28390</td>\n",
              "      <td>0.24140</td>\n",
              "      <td>0.10520</td>\n",
              "      <td>0.2597</td>\n",
              "      <td>...</td>\n",
              "      <td>26.50</td>\n",
              "      <td>98.87</td>\n",
              "      <td>567.7</td>\n",
              "      <td>0.20980</td>\n",
              "      <td>0.86630</td>\n",
              "      <td>0.6869</td>\n",
              "      <td>0.2575</td>\n",
              "      <td>0.6638</td>\n",
              "      <td>0.17300</td>\n",
              "      <td>1</td>\n",
              "    </tr>\n",
              "    <tr>\n",
              "      <th>4</th>\n",
              "      <td>M</td>\n",
              "      <td>20.29</td>\n",
              "      <td>14.34</td>\n",
              "      <td>135.10</td>\n",
              "      <td>1297.0</td>\n",
              "      <td>0.10030</td>\n",
              "      <td>0.13280</td>\n",
              "      <td>0.19800</td>\n",
              "      <td>0.10430</td>\n",
              "      <td>0.1809</td>\n",
              "      <td>...</td>\n",
              "      <td>16.67</td>\n",
              "      <td>152.20</td>\n",
              "      <td>1575.0</td>\n",
              "      <td>0.13740</td>\n",
              "      <td>0.20500</td>\n",
              "      <td>0.4000</td>\n",
              "      <td>0.1625</td>\n",
              "      <td>0.2364</td>\n",
              "      <td>0.07678</td>\n",
              "      <td>1</td>\n",
              "    </tr>\n",
              "    <tr>\n",
              "      <th>...</th>\n",
              "      <td>...</td>\n",
              "      <td>...</td>\n",
              "      <td>...</td>\n",
              "      <td>...</td>\n",
              "      <td>...</td>\n",
              "      <td>...</td>\n",
              "      <td>...</td>\n",
              "      <td>...</td>\n",
              "      <td>...</td>\n",
              "      <td>...</td>\n",
              "      <td>...</td>\n",
              "      <td>...</td>\n",
              "      <td>...</td>\n",
              "      <td>...</td>\n",
              "      <td>...</td>\n",
              "      <td>...</td>\n",
              "      <td>...</td>\n",
              "      <td>...</td>\n",
              "      <td>...</td>\n",
              "      <td>...</td>\n",
              "      <td>...</td>\n",
              "    </tr>\n",
              "    <tr>\n",
              "      <th>564</th>\n",
              "      <td>M</td>\n",
              "      <td>21.56</td>\n",
              "      <td>22.39</td>\n",
              "      <td>142.00</td>\n",
              "      <td>1479.0</td>\n",
              "      <td>0.11100</td>\n",
              "      <td>0.11590</td>\n",
              "      <td>0.24390</td>\n",
              "      <td>0.13890</td>\n",
              "      <td>0.1726</td>\n",
              "      <td>...</td>\n",
              "      <td>26.40</td>\n",
              "      <td>166.10</td>\n",
              "      <td>2027.0</td>\n",
              "      <td>0.14100</td>\n",
              "      <td>0.21130</td>\n",
              "      <td>0.4107</td>\n",
              "      <td>0.2216</td>\n",
              "      <td>0.2060</td>\n",
              "      <td>0.07115</td>\n",
              "      <td>1</td>\n",
              "    </tr>\n",
              "    <tr>\n",
              "      <th>565</th>\n",
              "      <td>M</td>\n",
              "      <td>20.13</td>\n",
              "      <td>28.25</td>\n",
              "      <td>131.20</td>\n",
              "      <td>1261.0</td>\n",
              "      <td>0.09780</td>\n",
              "      <td>0.10340</td>\n",
              "      <td>0.14400</td>\n",
              "      <td>0.09791</td>\n",
              "      <td>0.1752</td>\n",
              "      <td>...</td>\n",
              "      <td>38.25</td>\n",
              "      <td>155.00</td>\n",
              "      <td>1731.0</td>\n",
              "      <td>0.11660</td>\n",
              "      <td>0.19220</td>\n",
              "      <td>0.3215</td>\n",
              "      <td>0.1628</td>\n",
              "      <td>0.2572</td>\n",
              "      <td>0.06637</td>\n",
              "      <td>1</td>\n",
              "    </tr>\n",
              "    <tr>\n",
              "      <th>566</th>\n",
              "      <td>M</td>\n",
              "      <td>16.60</td>\n",
              "      <td>28.08</td>\n",
              "      <td>108.30</td>\n",
              "      <td>858.1</td>\n",
              "      <td>0.08455</td>\n",
              "      <td>0.10230</td>\n",
              "      <td>0.09251</td>\n",
              "      <td>0.05302</td>\n",
              "      <td>0.1590</td>\n",
              "      <td>...</td>\n",
              "      <td>34.12</td>\n",
              "      <td>126.70</td>\n",
              "      <td>1124.0</td>\n",
              "      <td>0.11390</td>\n",
              "      <td>0.30940</td>\n",
              "      <td>0.3403</td>\n",
              "      <td>0.1418</td>\n",
              "      <td>0.2218</td>\n",
              "      <td>0.07820</td>\n",
              "      <td>1</td>\n",
              "    </tr>\n",
              "    <tr>\n",
              "      <th>567</th>\n",
              "      <td>M</td>\n",
              "      <td>20.60</td>\n",
              "      <td>29.33</td>\n",
              "      <td>140.10</td>\n",
              "      <td>1265.0</td>\n",
              "      <td>0.11780</td>\n",
              "      <td>0.27700</td>\n",
              "      <td>0.35140</td>\n",
              "      <td>0.15200</td>\n",
              "      <td>0.2397</td>\n",
              "      <td>...</td>\n",
              "      <td>39.42</td>\n",
              "      <td>184.60</td>\n",
              "      <td>1821.0</td>\n",
              "      <td>0.16500</td>\n",
              "      <td>0.86810</td>\n",
              "      <td>0.9387</td>\n",
              "      <td>0.2650</td>\n",
              "      <td>0.4087</td>\n",
              "      <td>0.12400</td>\n",
              "      <td>1</td>\n",
              "    </tr>\n",
              "    <tr>\n",
              "      <th>568</th>\n",
              "      <td>B</td>\n",
              "      <td>7.76</td>\n",
              "      <td>24.54</td>\n",
              "      <td>47.92</td>\n",
              "      <td>181.0</td>\n",
              "      <td>0.05263</td>\n",
              "      <td>0.04362</td>\n",
              "      <td>0.00000</td>\n",
              "      <td>0.00000</td>\n",
              "      <td>0.1587</td>\n",
              "      <td>...</td>\n",
              "      <td>30.37</td>\n",
              "      <td>59.16</td>\n",
              "      <td>268.6</td>\n",
              "      <td>0.08996</td>\n",
              "      <td>0.06444</td>\n",
              "      <td>0.0000</td>\n",
              "      <td>0.0000</td>\n",
              "      <td>0.2871</td>\n",
              "      <td>0.07039</td>\n",
              "      <td>0</td>\n",
              "    </tr>\n",
              "  </tbody>\n",
              "</table>\n",
              "<p>569 rows × 32 columns</p>\n",
              "</div>\n",
              "      <button class=\"colab-df-convert\" onclick=\"convertToInteractive('df-bd403a38-1377-41fb-adcd-831673404134')\"\n",
              "              title=\"Convert this dataframe to an interactive table.\"\n",
              "              style=\"display:none;\">\n",
              "        \n",
              "  <svg xmlns=\"http://www.w3.org/2000/svg\" height=\"24px\"viewBox=\"0 0 24 24\"\n",
              "       width=\"24px\">\n",
              "    <path d=\"M0 0h24v24H0V0z\" fill=\"none\"/>\n",
              "    <path d=\"M18.56 5.44l.94 2.06.94-2.06 2.06-.94-2.06-.94-.94-2.06-.94 2.06-2.06.94zm-11 1L8.5 8.5l.94-2.06 2.06-.94-2.06-.94L8.5 2.5l-.94 2.06-2.06.94zm10 10l.94 2.06.94-2.06 2.06-.94-2.06-.94-.94-2.06-.94 2.06-2.06.94z\"/><path d=\"M17.41 7.96l-1.37-1.37c-.4-.4-.92-.59-1.43-.59-.52 0-1.04.2-1.43.59L10.3 9.45l-7.72 7.72c-.78.78-.78 2.05 0 2.83L4 21.41c.39.39.9.59 1.41.59.51 0 1.02-.2 1.41-.59l7.78-7.78 2.81-2.81c.8-.78.8-2.07 0-2.86zM5.41 20L4 18.59l7.72-7.72 1.47 1.35L5.41 20z\"/>\n",
              "  </svg>\n",
              "      </button>\n",
              "      \n",
              "  <style>\n",
              "    .colab-df-container {\n",
              "      display:flex;\n",
              "      flex-wrap:wrap;\n",
              "      gap: 12px;\n",
              "    }\n",
              "\n",
              "    .colab-df-convert {\n",
              "      background-color: #E8F0FE;\n",
              "      border: none;\n",
              "      border-radius: 50%;\n",
              "      cursor: pointer;\n",
              "      display: none;\n",
              "      fill: #1967D2;\n",
              "      height: 32px;\n",
              "      padding: 0 0 0 0;\n",
              "      width: 32px;\n",
              "    }\n",
              "\n",
              "    .colab-df-convert:hover {\n",
              "      background-color: #E2EBFA;\n",
              "      box-shadow: 0px 1px 2px rgba(60, 64, 67, 0.3), 0px 1px 3px 1px rgba(60, 64, 67, 0.15);\n",
              "      fill: #174EA6;\n",
              "    }\n",
              "\n",
              "    [theme=dark] .colab-df-convert {\n",
              "      background-color: #3B4455;\n",
              "      fill: #D2E3FC;\n",
              "    }\n",
              "\n",
              "    [theme=dark] .colab-df-convert:hover {\n",
              "      background-color: #434B5C;\n",
              "      box-shadow: 0px 1px 3px 1px rgba(0, 0, 0, 0.15);\n",
              "      filter: drop-shadow(0px 1px 2px rgba(0, 0, 0, 0.3));\n",
              "      fill: #FFFFFF;\n",
              "    }\n",
              "  </style>\n",
              "\n",
              "      <script>\n",
              "        const buttonEl =\n",
              "          document.querySelector('#df-bd403a38-1377-41fb-adcd-831673404134 button.colab-df-convert');\n",
              "        buttonEl.style.display =\n",
              "          google.colab.kernel.accessAllowed ? 'block' : 'none';\n",
              "\n",
              "        async function convertToInteractive(key) {\n",
              "          const element = document.querySelector('#df-bd403a38-1377-41fb-adcd-831673404134');\n",
              "          const dataTable =\n",
              "            await google.colab.kernel.invokeFunction('convertToInteractive',\n",
              "                                                     [key], {});\n",
              "          if (!dataTable) return;\n",
              "\n",
              "          const docLinkHtml = 'Like what you see? Visit the ' +\n",
              "            '<a target=\"_blank\" href=https://colab.research.google.com/notebooks/data_table.ipynb>data table notebook</a>'\n",
              "            + ' to learn more about interactive tables.';\n",
              "          element.innerHTML = '';\n",
              "          dataTable['output_type'] = 'display_data';\n",
              "          await google.colab.output.renderOutput(dataTable, element);\n",
              "          const docLink = document.createElement('div');\n",
              "          docLink.innerHTML = docLinkHtml;\n",
              "          element.appendChild(docLink);\n",
              "        }\n",
              "      </script>\n",
              "    </div>\n",
              "  </div>\n",
              "  "
            ]
          },
          "metadata": {},
          "execution_count": 13
        }
      ],
      "source": [
        "from sklearn.preprocessing import LabelEncoder     \n",
        "label_encoder = LabelEncoder()\n",
        "df['diagnosis_Labels']= label_encoder.fit_transform(df['diagnosis']) \n",
        "df"
      ]
    },
    {
      "cell_type": "markdown",
      "metadata": {
        "id": "jgKBP_UACGvb"
      },
      "source": [
        "##**Drop 'diagnosis' data from the dataframe**"
      ]
    },
    {
      "cell_type": "code",
      "execution_count": 14,
      "metadata": {
        "colab": {
          "base_uri": "https://localhost:8080/",
          "height": 505
        },
        "id": "g7of2gAxCZBT",
        "outputId": "89046232-448a-4745-904d-1e0baf477dc0"
      },
      "outputs": [
        {
          "output_type": "execute_result",
          "data": {
            "text/plain": [
              "     radius_mean  texture_mean  perimeter_mean  area_mean  smoothness_mean  \\\n",
              "0          17.99         10.38          122.80     1001.0          0.11840   \n",
              "1          20.57         17.77          132.90     1326.0          0.08474   \n",
              "2          19.69         21.25          130.00     1203.0          0.10960   \n",
              "3          11.42         20.38           77.58      386.1          0.14250   \n",
              "4          20.29         14.34          135.10     1297.0          0.10030   \n",
              "..           ...           ...             ...        ...              ...   \n",
              "564        21.56         22.39          142.00     1479.0          0.11100   \n",
              "565        20.13         28.25          131.20     1261.0          0.09780   \n",
              "566        16.60         28.08          108.30      858.1          0.08455   \n",
              "567        20.60         29.33          140.10     1265.0          0.11780   \n",
              "568         7.76         24.54           47.92      181.0          0.05263   \n",
              "\n",
              "     compactness_mean  concavity_mean  concave points_mean  symmetry_mean  \\\n",
              "0             0.27760         0.30010              0.14710         0.2419   \n",
              "1             0.07864         0.08690              0.07017         0.1812   \n",
              "2             0.15990         0.19740              0.12790         0.2069   \n",
              "3             0.28390         0.24140              0.10520         0.2597   \n",
              "4             0.13280         0.19800              0.10430         0.1809   \n",
              "..                ...             ...                  ...            ...   \n",
              "564           0.11590         0.24390              0.13890         0.1726   \n",
              "565           0.10340         0.14400              0.09791         0.1752   \n",
              "566           0.10230         0.09251              0.05302         0.1590   \n",
              "567           0.27700         0.35140              0.15200         0.2397   \n",
              "568           0.04362         0.00000              0.00000         0.1587   \n",
              "\n",
              "     fractal_dimension_mean  ...  texture_worst  perimeter_worst  area_worst  \\\n",
              "0                   0.07871  ...          17.33           184.60      2019.0   \n",
              "1                   0.05667  ...          23.41           158.80      1956.0   \n",
              "2                   0.05999  ...          25.53           152.50      1709.0   \n",
              "3                   0.09744  ...          26.50            98.87       567.7   \n",
              "4                   0.05883  ...          16.67           152.20      1575.0   \n",
              "..                      ...  ...            ...              ...         ...   \n",
              "564                 0.05623  ...          26.40           166.10      2027.0   \n",
              "565                 0.05533  ...          38.25           155.00      1731.0   \n",
              "566                 0.05648  ...          34.12           126.70      1124.0   \n",
              "567                 0.07016  ...          39.42           184.60      1821.0   \n",
              "568                 0.05884  ...          30.37            59.16       268.6   \n",
              "\n",
              "     smoothness_worst  compactness_worst  concavity_worst  \\\n",
              "0             0.16220            0.66560           0.7119   \n",
              "1             0.12380            0.18660           0.2416   \n",
              "2             0.14440            0.42450           0.4504   \n",
              "3             0.20980            0.86630           0.6869   \n",
              "4             0.13740            0.20500           0.4000   \n",
              "..                ...                ...              ...   \n",
              "564           0.14100            0.21130           0.4107   \n",
              "565           0.11660            0.19220           0.3215   \n",
              "566           0.11390            0.30940           0.3403   \n",
              "567           0.16500            0.86810           0.9387   \n",
              "568           0.08996            0.06444           0.0000   \n",
              "\n",
              "     concave points_worst  symmetry_worst  fractal_dimension_worst  \\\n",
              "0                  0.2654          0.4601                  0.11890   \n",
              "1                  0.1860          0.2750                  0.08902   \n",
              "2                  0.2430          0.3613                  0.08758   \n",
              "3                  0.2575          0.6638                  0.17300   \n",
              "4                  0.1625          0.2364                  0.07678   \n",
              "..                    ...             ...                      ...   \n",
              "564                0.2216          0.2060                  0.07115   \n",
              "565                0.1628          0.2572                  0.06637   \n",
              "566                0.1418          0.2218                  0.07820   \n",
              "567                0.2650          0.4087                  0.12400   \n",
              "568                0.0000          0.2871                  0.07039   \n",
              "\n",
              "     diagnosis_Labels  \n",
              "0                   1  \n",
              "1                   1  \n",
              "2                   1  \n",
              "3                   1  \n",
              "4                   1  \n",
              "..                ...  \n",
              "564                 1  \n",
              "565                 1  \n",
              "566                 1  \n",
              "567                 1  \n",
              "568                 0  \n",
              "\n",
              "[569 rows x 31 columns]"
            ],
            "text/html": [
              "\n",
              "  <div id=\"df-c148b32d-639c-4870-8139-115c6498240a\">\n",
              "    <div class=\"colab-df-container\">\n",
              "      <div>\n",
              "<style scoped>\n",
              "    .dataframe tbody tr th:only-of-type {\n",
              "        vertical-align: middle;\n",
              "    }\n",
              "\n",
              "    .dataframe tbody tr th {\n",
              "        vertical-align: top;\n",
              "    }\n",
              "\n",
              "    .dataframe thead th {\n",
              "        text-align: right;\n",
              "    }\n",
              "</style>\n",
              "<table border=\"1\" class=\"dataframe\">\n",
              "  <thead>\n",
              "    <tr style=\"text-align: right;\">\n",
              "      <th></th>\n",
              "      <th>radius_mean</th>\n",
              "      <th>texture_mean</th>\n",
              "      <th>perimeter_mean</th>\n",
              "      <th>area_mean</th>\n",
              "      <th>smoothness_mean</th>\n",
              "      <th>compactness_mean</th>\n",
              "      <th>concavity_mean</th>\n",
              "      <th>concave points_mean</th>\n",
              "      <th>symmetry_mean</th>\n",
              "      <th>fractal_dimension_mean</th>\n",
              "      <th>...</th>\n",
              "      <th>texture_worst</th>\n",
              "      <th>perimeter_worst</th>\n",
              "      <th>area_worst</th>\n",
              "      <th>smoothness_worst</th>\n",
              "      <th>compactness_worst</th>\n",
              "      <th>concavity_worst</th>\n",
              "      <th>concave points_worst</th>\n",
              "      <th>symmetry_worst</th>\n",
              "      <th>fractal_dimension_worst</th>\n",
              "      <th>diagnosis_Labels</th>\n",
              "    </tr>\n",
              "  </thead>\n",
              "  <tbody>\n",
              "    <tr>\n",
              "      <th>0</th>\n",
              "      <td>17.99</td>\n",
              "      <td>10.38</td>\n",
              "      <td>122.80</td>\n",
              "      <td>1001.0</td>\n",
              "      <td>0.11840</td>\n",
              "      <td>0.27760</td>\n",
              "      <td>0.30010</td>\n",
              "      <td>0.14710</td>\n",
              "      <td>0.2419</td>\n",
              "      <td>0.07871</td>\n",
              "      <td>...</td>\n",
              "      <td>17.33</td>\n",
              "      <td>184.60</td>\n",
              "      <td>2019.0</td>\n",
              "      <td>0.16220</td>\n",
              "      <td>0.66560</td>\n",
              "      <td>0.7119</td>\n",
              "      <td>0.2654</td>\n",
              "      <td>0.4601</td>\n",
              "      <td>0.11890</td>\n",
              "      <td>1</td>\n",
              "    </tr>\n",
              "    <tr>\n",
              "      <th>1</th>\n",
              "      <td>20.57</td>\n",
              "      <td>17.77</td>\n",
              "      <td>132.90</td>\n",
              "      <td>1326.0</td>\n",
              "      <td>0.08474</td>\n",
              "      <td>0.07864</td>\n",
              "      <td>0.08690</td>\n",
              "      <td>0.07017</td>\n",
              "      <td>0.1812</td>\n",
              "      <td>0.05667</td>\n",
              "      <td>...</td>\n",
              "      <td>23.41</td>\n",
              "      <td>158.80</td>\n",
              "      <td>1956.0</td>\n",
              "      <td>0.12380</td>\n",
              "      <td>0.18660</td>\n",
              "      <td>0.2416</td>\n",
              "      <td>0.1860</td>\n",
              "      <td>0.2750</td>\n",
              "      <td>0.08902</td>\n",
              "      <td>1</td>\n",
              "    </tr>\n",
              "    <tr>\n",
              "      <th>2</th>\n",
              "      <td>19.69</td>\n",
              "      <td>21.25</td>\n",
              "      <td>130.00</td>\n",
              "      <td>1203.0</td>\n",
              "      <td>0.10960</td>\n",
              "      <td>0.15990</td>\n",
              "      <td>0.19740</td>\n",
              "      <td>0.12790</td>\n",
              "      <td>0.2069</td>\n",
              "      <td>0.05999</td>\n",
              "      <td>...</td>\n",
              "      <td>25.53</td>\n",
              "      <td>152.50</td>\n",
              "      <td>1709.0</td>\n",
              "      <td>0.14440</td>\n",
              "      <td>0.42450</td>\n",
              "      <td>0.4504</td>\n",
              "      <td>0.2430</td>\n",
              "      <td>0.3613</td>\n",
              "      <td>0.08758</td>\n",
              "      <td>1</td>\n",
              "    </tr>\n",
              "    <tr>\n",
              "      <th>3</th>\n",
              "      <td>11.42</td>\n",
              "      <td>20.38</td>\n",
              "      <td>77.58</td>\n",
              "      <td>386.1</td>\n",
              "      <td>0.14250</td>\n",
              "      <td>0.28390</td>\n",
              "      <td>0.24140</td>\n",
              "      <td>0.10520</td>\n",
              "      <td>0.2597</td>\n",
              "      <td>0.09744</td>\n",
              "      <td>...</td>\n",
              "      <td>26.50</td>\n",
              "      <td>98.87</td>\n",
              "      <td>567.7</td>\n",
              "      <td>0.20980</td>\n",
              "      <td>0.86630</td>\n",
              "      <td>0.6869</td>\n",
              "      <td>0.2575</td>\n",
              "      <td>0.6638</td>\n",
              "      <td>0.17300</td>\n",
              "      <td>1</td>\n",
              "    </tr>\n",
              "    <tr>\n",
              "      <th>4</th>\n",
              "      <td>20.29</td>\n",
              "      <td>14.34</td>\n",
              "      <td>135.10</td>\n",
              "      <td>1297.0</td>\n",
              "      <td>0.10030</td>\n",
              "      <td>0.13280</td>\n",
              "      <td>0.19800</td>\n",
              "      <td>0.10430</td>\n",
              "      <td>0.1809</td>\n",
              "      <td>0.05883</td>\n",
              "      <td>...</td>\n",
              "      <td>16.67</td>\n",
              "      <td>152.20</td>\n",
              "      <td>1575.0</td>\n",
              "      <td>0.13740</td>\n",
              "      <td>0.20500</td>\n",
              "      <td>0.4000</td>\n",
              "      <td>0.1625</td>\n",
              "      <td>0.2364</td>\n",
              "      <td>0.07678</td>\n",
              "      <td>1</td>\n",
              "    </tr>\n",
              "    <tr>\n",
              "      <th>...</th>\n",
              "      <td>...</td>\n",
              "      <td>...</td>\n",
              "      <td>...</td>\n",
              "      <td>...</td>\n",
              "      <td>...</td>\n",
              "      <td>...</td>\n",
              "      <td>...</td>\n",
              "      <td>...</td>\n",
              "      <td>...</td>\n",
              "      <td>...</td>\n",
              "      <td>...</td>\n",
              "      <td>...</td>\n",
              "      <td>...</td>\n",
              "      <td>...</td>\n",
              "      <td>...</td>\n",
              "      <td>...</td>\n",
              "      <td>...</td>\n",
              "      <td>...</td>\n",
              "      <td>...</td>\n",
              "      <td>...</td>\n",
              "      <td>...</td>\n",
              "    </tr>\n",
              "    <tr>\n",
              "      <th>564</th>\n",
              "      <td>21.56</td>\n",
              "      <td>22.39</td>\n",
              "      <td>142.00</td>\n",
              "      <td>1479.0</td>\n",
              "      <td>0.11100</td>\n",
              "      <td>0.11590</td>\n",
              "      <td>0.24390</td>\n",
              "      <td>0.13890</td>\n",
              "      <td>0.1726</td>\n",
              "      <td>0.05623</td>\n",
              "      <td>...</td>\n",
              "      <td>26.40</td>\n",
              "      <td>166.10</td>\n",
              "      <td>2027.0</td>\n",
              "      <td>0.14100</td>\n",
              "      <td>0.21130</td>\n",
              "      <td>0.4107</td>\n",
              "      <td>0.2216</td>\n",
              "      <td>0.2060</td>\n",
              "      <td>0.07115</td>\n",
              "      <td>1</td>\n",
              "    </tr>\n",
              "    <tr>\n",
              "      <th>565</th>\n",
              "      <td>20.13</td>\n",
              "      <td>28.25</td>\n",
              "      <td>131.20</td>\n",
              "      <td>1261.0</td>\n",
              "      <td>0.09780</td>\n",
              "      <td>0.10340</td>\n",
              "      <td>0.14400</td>\n",
              "      <td>0.09791</td>\n",
              "      <td>0.1752</td>\n",
              "      <td>0.05533</td>\n",
              "      <td>...</td>\n",
              "      <td>38.25</td>\n",
              "      <td>155.00</td>\n",
              "      <td>1731.0</td>\n",
              "      <td>0.11660</td>\n",
              "      <td>0.19220</td>\n",
              "      <td>0.3215</td>\n",
              "      <td>0.1628</td>\n",
              "      <td>0.2572</td>\n",
              "      <td>0.06637</td>\n",
              "      <td>1</td>\n",
              "    </tr>\n",
              "    <tr>\n",
              "      <th>566</th>\n",
              "      <td>16.60</td>\n",
              "      <td>28.08</td>\n",
              "      <td>108.30</td>\n",
              "      <td>858.1</td>\n",
              "      <td>0.08455</td>\n",
              "      <td>0.10230</td>\n",
              "      <td>0.09251</td>\n",
              "      <td>0.05302</td>\n",
              "      <td>0.1590</td>\n",
              "      <td>0.05648</td>\n",
              "      <td>...</td>\n",
              "      <td>34.12</td>\n",
              "      <td>126.70</td>\n",
              "      <td>1124.0</td>\n",
              "      <td>0.11390</td>\n",
              "      <td>0.30940</td>\n",
              "      <td>0.3403</td>\n",
              "      <td>0.1418</td>\n",
              "      <td>0.2218</td>\n",
              "      <td>0.07820</td>\n",
              "      <td>1</td>\n",
              "    </tr>\n",
              "    <tr>\n",
              "      <th>567</th>\n",
              "      <td>20.60</td>\n",
              "      <td>29.33</td>\n",
              "      <td>140.10</td>\n",
              "      <td>1265.0</td>\n",
              "      <td>0.11780</td>\n",
              "      <td>0.27700</td>\n",
              "      <td>0.35140</td>\n",
              "      <td>0.15200</td>\n",
              "      <td>0.2397</td>\n",
              "      <td>0.07016</td>\n",
              "      <td>...</td>\n",
              "      <td>39.42</td>\n",
              "      <td>184.60</td>\n",
              "      <td>1821.0</td>\n",
              "      <td>0.16500</td>\n",
              "      <td>0.86810</td>\n",
              "      <td>0.9387</td>\n",
              "      <td>0.2650</td>\n",
              "      <td>0.4087</td>\n",
              "      <td>0.12400</td>\n",
              "      <td>1</td>\n",
              "    </tr>\n",
              "    <tr>\n",
              "      <th>568</th>\n",
              "      <td>7.76</td>\n",
              "      <td>24.54</td>\n",
              "      <td>47.92</td>\n",
              "      <td>181.0</td>\n",
              "      <td>0.05263</td>\n",
              "      <td>0.04362</td>\n",
              "      <td>0.00000</td>\n",
              "      <td>0.00000</td>\n",
              "      <td>0.1587</td>\n",
              "      <td>0.05884</td>\n",
              "      <td>...</td>\n",
              "      <td>30.37</td>\n",
              "      <td>59.16</td>\n",
              "      <td>268.6</td>\n",
              "      <td>0.08996</td>\n",
              "      <td>0.06444</td>\n",
              "      <td>0.0000</td>\n",
              "      <td>0.0000</td>\n",
              "      <td>0.2871</td>\n",
              "      <td>0.07039</td>\n",
              "      <td>0</td>\n",
              "    </tr>\n",
              "  </tbody>\n",
              "</table>\n",
              "<p>569 rows × 31 columns</p>\n",
              "</div>\n",
              "      <button class=\"colab-df-convert\" onclick=\"convertToInteractive('df-c148b32d-639c-4870-8139-115c6498240a')\"\n",
              "              title=\"Convert this dataframe to an interactive table.\"\n",
              "              style=\"display:none;\">\n",
              "        \n",
              "  <svg xmlns=\"http://www.w3.org/2000/svg\" height=\"24px\"viewBox=\"0 0 24 24\"\n",
              "       width=\"24px\">\n",
              "    <path d=\"M0 0h24v24H0V0z\" fill=\"none\"/>\n",
              "    <path d=\"M18.56 5.44l.94 2.06.94-2.06 2.06-.94-2.06-.94-.94-2.06-.94 2.06-2.06.94zm-11 1L8.5 8.5l.94-2.06 2.06-.94-2.06-.94L8.5 2.5l-.94 2.06-2.06.94zm10 10l.94 2.06.94-2.06 2.06-.94-2.06-.94-.94-2.06-.94 2.06-2.06.94z\"/><path d=\"M17.41 7.96l-1.37-1.37c-.4-.4-.92-.59-1.43-.59-.52 0-1.04.2-1.43.59L10.3 9.45l-7.72 7.72c-.78.78-.78 2.05 0 2.83L4 21.41c.39.39.9.59 1.41.59.51 0 1.02-.2 1.41-.59l7.78-7.78 2.81-2.81c.8-.78.8-2.07 0-2.86zM5.41 20L4 18.59l7.72-7.72 1.47 1.35L5.41 20z\"/>\n",
              "  </svg>\n",
              "      </button>\n",
              "      \n",
              "  <style>\n",
              "    .colab-df-container {\n",
              "      display:flex;\n",
              "      flex-wrap:wrap;\n",
              "      gap: 12px;\n",
              "    }\n",
              "\n",
              "    .colab-df-convert {\n",
              "      background-color: #E8F0FE;\n",
              "      border: none;\n",
              "      border-radius: 50%;\n",
              "      cursor: pointer;\n",
              "      display: none;\n",
              "      fill: #1967D2;\n",
              "      height: 32px;\n",
              "      padding: 0 0 0 0;\n",
              "      width: 32px;\n",
              "    }\n",
              "\n",
              "    .colab-df-convert:hover {\n",
              "      background-color: #E2EBFA;\n",
              "      box-shadow: 0px 1px 2px rgba(60, 64, 67, 0.3), 0px 1px 3px 1px rgba(60, 64, 67, 0.15);\n",
              "      fill: #174EA6;\n",
              "    }\n",
              "\n",
              "    [theme=dark] .colab-df-convert {\n",
              "      background-color: #3B4455;\n",
              "      fill: #D2E3FC;\n",
              "    }\n",
              "\n",
              "    [theme=dark] .colab-df-convert:hover {\n",
              "      background-color: #434B5C;\n",
              "      box-shadow: 0px 1px 3px 1px rgba(0, 0, 0, 0.15);\n",
              "      filter: drop-shadow(0px 1px 2px rgba(0, 0, 0, 0.3));\n",
              "      fill: #FFFFFF;\n",
              "    }\n",
              "  </style>\n",
              "\n",
              "      <script>\n",
              "        const buttonEl =\n",
              "          document.querySelector('#df-c148b32d-639c-4870-8139-115c6498240a button.colab-df-convert');\n",
              "        buttonEl.style.display =\n",
              "          google.colab.kernel.accessAllowed ? 'block' : 'none';\n",
              "\n",
              "        async function convertToInteractive(key) {\n",
              "          const element = document.querySelector('#df-c148b32d-639c-4870-8139-115c6498240a');\n",
              "          const dataTable =\n",
              "            await google.colab.kernel.invokeFunction('convertToInteractive',\n",
              "                                                     [key], {});\n",
              "          if (!dataTable) return;\n",
              "\n",
              "          const docLinkHtml = 'Like what you see? Visit the ' +\n",
              "            '<a target=\"_blank\" href=https://colab.research.google.com/notebooks/data_table.ipynb>data table notebook</a>'\n",
              "            + ' to learn more about interactive tables.';\n",
              "          element.innerHTML = '';\n",
              "          dataTable['output_type'] = 'display_data';\n",
              "          await google.colab.output.renderOutput(dataTable, element);\n",
              "          const docLink = document.createElement('div');\n",
              "          docLink.innerHTML = docLinkHtml;\n",
              "          element.appendChild(docLink);\n",
              "        }\n",
              "      </script>\n",
              "    </div>\n",
              "  </div>\n",
              "  "
            ]
          },
          "metadata": {},
          "execution_count": 14
        }
      ],
      "source": [
        "df.drop(columns=['diagnosis'],axis=1,inplace=True)\n",
        "df"
      ]
    },
    {
      "cell_type": "markdown",
      "metadata": {
        "id": "z9mLKcAJCF2m"
      },
      "source": []
    },
    {
      "cell_type": "markdown",
      "metadata": {
        "id": "gtvz1SwH9ok-"
      },
      "source": [
        "##**Create inpute features and Target feature from dataset and use Train|Test Split**"
      ]
    },
    {
      "cell_type": "code",
      "execution_count": 15,
      "metadata": {
        "id": "qRGPrgBp9ok_"
      },
      "outputs": [],
      "source": [
        "from sklearn.model_selection import train_test_split\n",
        "\n",
        "X = df.drop('diagnosis_Labels',axis=1)\n",
        "y = df['diagnosis_Labels']\n",
        "\n",
        "X_train, X_test, y_train, y_test = train_test_split(X, y, test_size=0.2, random_state=42)\n"
      ]
    },
    {
      "cell_type": "markdown",
      "metadata": {
        "id": "fpS6UoGiDiLo"
      },
      "source": [
        "##**Use Standard Scaler for Data scaling**"
      ]
    },
    {
      "cell_type": "code",
      "execution_count": 16,
      "metadata": {
        "id": "GdjBOyKS9olC"
      },
      "outputs": [],
      "source": [
        "from sklearn.preprocessing import StandardScaler\n",
        "scaler = StandardScaler()\n",
        "scaled_X_train = scaler.fit_transform(X_train)\n",
        "scaled_X_test = scaler.transform(X_test)"
      ]
    },
    {
      "cell_type": "markdown",
      "metadata": {
        "id": "Ng9sSnaFDuZE"
      },
      "source": [
        "##**import KNN classifier model and fit the data into the model**"
      ]
    },
    {
      "cell_type": "code",
      "execution_count": 17,
      "metadata": {
        "colab": {
          "base_uri": "https://localhost:8080/",
          "height": 74
        },
        "id": "MfFBXmPi9olD",
        "outputId": "25526a1d-5e87-4df1-ac3e-ead83bc3a7e4"
      },
      "outputs": [
        {
          "output_type": "execute_result",
          "data": {
            "text/plain": [
              "KNeighborsClassifier(n_neighbors=1)"
            ],
            "text/html": [
              "<style>#sk-container-id-1 {color: black;background-color: white;}#sk-container-id-1 pre{padding: 0;}#sk-container-id-1 div.sk-toggleable {background-color: white;}#sk-container-id-1 label.sk-toggleable__label {cursor: pointer;display: block;width: 100%;margin-bottom: 0;padding: 0.3em;box-sizing: border-box;text-align: center;}#sk-container-id-1 label.sk-toggleable__label-arrow:before {content: \"▸\";float: left;margin-right: 0.25em;color: #696969;}#sk-container-id-1 label.sk-toggleable__label-arrow:hover:before {color: black;}#sk-container-id-1 div.sk-estimator:hover label.sk-toggleable__label-arrow:before {color: black;}#sk-container-id-1 div.sk-toggleable__content {max-height: 0;max-width: 0;overflow: hidden;text-align: left;background-color: #f0f8ff;}#sk-container-id-1 div.sk-toggleable__content pre {margin: 0.2em;color: black;border-radius: 0.25em;background-color: #f0f8ff;}#sk-container-id-1 input.sk-toggleable__control:checked~div.sk-toggleable__content {max-height: 200px;max-width: 100%;overflow: auto;}#sk-container-id-1 input.sk-toggleable__control:checked~label.sk-toggleable__label-arrow:before {content: \"▾\";}#sk-container-id-1 div.sk-estimator input.sk-toggleable__control:checked~label.sk-toggleable__label {background-color: #d4ebff;}#sk-container-id-1 div.sk-label input.sk-toggleable__control:checked~label.sk-toggleable__label {background-color: #d4ebff;}#sk-container-id-1 input.sk-hidden--visually {border: 0;clip: rect(1px 1px 1px 1px);clip: rect(1px, 1px, 1px, 1px);height: 1px;margin: -1px;overflow: hidden;padding: 0;position: absolute;width: 1px;}#sk-container-id-1 div.sk-estimator {font-family: monospace;background-color: #f0f8ff;border: 1px dotted black;border-radius: 0.25em;box-sizing: border-box;margin-bottom: 0.5em;}#sk-container-id-1 div.sk-estimator:hover {background-color: #d4ebff;}#sk-container-id-1 div.sk-parallel-item::after {content: \"\";width: 100%;border-bottom: 1px solid gray;flex-grow: 1;}#sk-container-id-1 div.sk-label:hover label.sk-toggleable__label {background-color: #d4ebff;}#sk-container-id-1 div.sk-serial::before {content: \"\";position: absolute;border-left: 1px solid gray;box-sizing: border-box;top: 0;bottom: 0;left: 50%;z-index: 0;}#sk-container-id-1 div.sk-serial {display: flex;flex-direction: column;align-items: center;background-color: white;padding-right: 0.2em;padding-left: 0.2em;position: relative;}#sk-container-id-1 div.sk-item {position: relative;z-index: 1;}#sk-container-id-1 div.sk-parallel {display: flex;align-items: stretch;justify-content: center;background-color: white;position: relative;}#sk-container-id-1 div.sk-item::before, #sk-container-id-1 div.sk-parallel-item::before {content: \"\";position: absolute;border-left: 1px solid gray;box-sizing: border-box;top: 0;bottom: 0;left: 50%;z-index: -1;}#sk-container-id-1 div.sk-parallel-item {display: flex;flex-direction: column;z-index: 1;position: relative;background-color: white;}#sk-container-id-1 div.sk-parallel-item:first-child::after {align-self: flex-end;width: 50%;}#sk-container-id-1 div.sk-parallel-item:last-child::after {align-self: flex-start;width: 50%;}#sk-container-id-1 div.sk-parallel-item:only-child::after {width: 0;}#sk-container-id-1 div.sk-dashed-wrapped {border: 1px dashed gray;margin: 0 0.4em 0.5em 0.4em;box-sizing: border-box;padding-bottom: 0.4em;background-color: white;}#sk-container-id-1 div.sk-label label {font-family: monospace;font-weight: bold;display: inline-block;line-height: 1.2em;}#sk-container-id-1 div.sk-label-container {text-align: center;}#sk-container-id-1 div.sk-container {/* jupyter's `normalize.less` sets `[hidden] { display: none; }` but bootstrap.min.css set `[hidden] { display: none !important; }` so we also need the `!important` here to be able to override the default hidden behavior on the sphinx rendered scikit-learn.org. See: https://github.com/scikit-learn/scikit-learn/issues/21755 */display: inline-block !important;position: relative;}#sk-container-id-1 div.sk-text-repr-fallback {display: none;}</style><div id=\"sk-container-id-1\" class=\"sk-top-container\"><div class=\"sk-text-repr-fallback\"><pre>KNeighborsClassifier(n_neighbors=1)</pre><b>In a Jupyter environment, please rerun this cell to show the HTML representation or trust the notebook. <br />On GitHub, the HTML representation is unable to render, please try loading this page with nbviewer.org.</b></div><div class=\"sk-container\" hidden><div class=\"sk-item\"><div class=\"sk-estimator sk-toggleable\"><input class=\"sk-toggleable__control sk-hidden--visually\" id=\"sk-estimator-id-1\" type=\"checkbox\" checked><label for=\"sk-estimator-id-1\" class=\"sk-toggleable__label sk-toggleable__label-arrow\">KNeighborsClassifier</label><div class=\"sk-toggleable__content\"><pre>KNeighborsClassifier(n_neighbors=1)</pre></div></div></div></div></div>"
            ]
          },
          "metadata": {},
          "execution_count": 17
        }
      ],
      "source": [
        "from sklearn.neighbors import KNeighborsClassifier\n",
        "\n",
        "knn_model = KNeighborsClassifier(n_neighbors=1)\n",
        "knn_model.fit(scaled_X_train,y_train)\n"
      ]
    },
    {
      "cell_type": "markdown",
      "metadata": {
        "id": "EOK_CU1w9olH"
      },
      "source": [
        "##**Model Prediction and Evaluation**"
      ]
    },
    {
      "cell_type": "code",
      "execution_count": 18,
      "metadata": {
        "id": "Ifa7RCiF9olI"
      },
      "outputs": [],
      "source": [
        "y_pred = knn_model.predict(scaled_X_test)"
      ]
    },
    {
      "cell_type": "code",
      "execution_count": 19,
      "metadata": {
        "colab": {
          "base_uri": "https://localhost:8080/"
        },
        "id": "577iCXX59olI",
        "outputId": "f4a5acc8-94df-4b4a-ede3-634205288b2d"
      },
      "outputs": [
        {
          "output_type": "stream",
          "name": "stdout",
          "text": [
            "0.9385964912280702\n",
            "[[68  3]\n",
            " [ 4 39]]\n"
          ]
        }
      ],
      "source": [
        "from sklearn.metrics import classification_report,confusion_matrix,accuracy_score\n",
        "print(accuracy_score(y_test,y_pred))\n",
        "print(confusion_matrix(y_test,y_pred))"
      ]
    },
    {
      "cell_type": "code",
      "execution_count": 20,
      "metadata": {
        "colab": {
          "base_uri": "https://localhost:8080/"
        },
        "id": "YKhPlmX09olJ",
        "outputId": "8350902e-155f-4fe6-cd0f-08f3987d4949"
      },
      "outputs": [
        {
          "output_type": "stream",
          "name": "stdout",
          "text": [
            "              precision    recall  f1-score   support\n",
            "\n",
            "           0       0.94      0.96      0.95        71\n",
            "           1       0.93      0.91      0.92        43\n",
            "\n",
            "    accuracy                           0.94       114\n",
            "   macro avg       0.94      0.93      0.93       114\n",
            "weighted avg       0.94      0.94      0.94       114\n",
            "\n"
          ]
        }
      ],
      "source": [
        "print(classification_report(y_test,y_pred))"
      ]
    },
    {
      "cell_type": "markdown",
      "metadata": {
        "id": "Ccby8Z0g9olK"
      },
      "source": [
        "##**Elbow Method for Choosing K-Values**\n",
        "\n",
        "**This uses the test set for the hyperparameter selection of K.**"
      ]
    },
    {
      "cell_type": "code",
      "execution_count": 21,
      "metadata": {
        "id": "bcaCwwUd9olK"
      },
      "outputs": [],
      "source": [
        "test_error_rates = []\n",
        "for k in range(1,30):\n",
        "    knn_model = KNeighborsClassifier(n_neighbors=k)\n",
        "    knn_model.fit(scaled_X_train,y_train) \n",
        "   \n",
        "    y_pred_test = knn_model.predict(scaled_X_test)\n",
        "    \n",
        "    test_error = 1 - accuracy_score(y_test,y_pred_test)\n",
        "    test_error_rates.append(test_error)"
      ]
    },
    {
      "cell_type": "code",
      "execution_count": 22,
      "metadata": {
        "colab": {
          "base_uri": "https://localhost:8080/"
        },
        "id": "yt6t5VoLFV6h",
        "outputId": "d75712e6-8a3b-43c7-fbe8-55d8cff425f0"
      },
      "outputs": [
        {
          "output_type": "execute_result",
          "data": {
            "text/plain": [
              "[0.06140350877192979,\n",
              " 0.052631578947368474,\n",
              " 0.052631578947368474,\n",
              " 0.04385964912280704,\n",
              " 0.052631578947368474,\n",
              " 0.04385964912280704,\n",
              " 0.052631578947368474,\n",
              " 0.04385964912280704,\n",
              " 0.03508771929824561,\n",
              " 0.04385964912280704,\n",
              " 0.04385964912280704,\n",
              " 0.04385964912280704,\n",
              " 0.04385964912280704,\n",
              " 0.04385964912280704,\n",
              " 0.04385964912280704,\n",
              " 0.052631578947368474,\n",
              " 0.052631578947368474,\n",
              " 0.052631578947368474,\n",
              " 0.052631578947368474,\n",
              " 0.052631578947368474,\n",
              " 0.052631578947368474,\n",
              " 0.052631578947368474,\n",
              " 0.052631578947368474,\n",
              " 0.052631578947368474,\n",
              " 0.052631578947368474,\n",
              " 0.052631578947368474,\n",
              " 0.052631578947368474,\n",
              " 0.04385964912280704,\n",
              " 0.04385964912280704]"
            ]
          },
          "metadata": {},
          "execution_count": 22
        }
      ],
      "source": [
        "test_error_rates"
      ]
    },
    {
      "cell_type": "code",
      "execution_count": 23,
      "metadata": {
        "colab": {
          "base_uri": "https://localhost:8080/",
          "height": 916
        },
        "id": "Doifyipr9olL",
        "outputId": "0a022679-9c80-4aa4-e6ca-cd1fd11b3fb2"
      },
      "outputs": [
        {
          "output_type": "execute_result",
          "data": {
            "text/plain": [
              "Text(0.5, 0, 'K Value')"
            ]
          },
          "metadata": {},
          "execution_count": 23
        },
        {
          "output_type": "display_data",
          "data": {
            "text/plain": [
              "<Figure size 1600x1000 with 1 Axes>"
            ],
            "image/png": "[encoded data removed]"
          },
          "metadata": {
            "needs_background": "light"
          }
        }
      ],
      "source": [
        "import matplotlib.pyplot as plt\n",
        "plt.figure(figsize=(8,5),dpi=200)\n",
        "plt.plot(range(1,30),test_error_rates,label='Test Error')\n",
        "plt.legend()\n",
        "plt.ylabel('Error Rate')\n",
        "plt.xlabel(\"K Value\")"
      ]
    },
    {
      "cell_type": "code",
      "execution_count": 24,
      "metadata": {
        "id": "1R_ExbaqFRjT"
      },
      "outputs": [],
      "source": [
        "from sklearn.neighbors import KNeighborsClassifier\n",
        "\n",
        "knn_model_1 = KNeighborsClassifier(n_neighbors=9)\n",
        "knn_model_1.fit(scaled_X_train,y_train)\n",
        "y_pred_1 = knn_model_1.predict(scaled_X_test)"
      ]
    },
    {
      "cell_type": "code",
      "execution_count": 25,
      "metadata": {
        "colab": {
          "base_uri": "https://localhost:8080/"
        },
        "id": "uTYZ_ISjF0EQ",
        "outputId": "124151dc-7b36-4539-92eb-340539ce7dd3"
      },
      "outputs": [
        {
          "output_type": "stream",
          "name": "stdout",
          "text": [
            "0.9649122807017544\n",
            "[[69  2]\n",
            " [ 2 41]]\n"
          ]
        }
      ],
      "source": [
        "from sklearn.metrics import classification_report,confusion_matrix,accuracy_score\n",
        "print(accuracy_score(y_test,y_pred_1))\n",
        "print(confusion_matrix(y_test,y_pred_1))"
      ]
    },
    {
      "cell_type": "code",
      "execution_count": 26,
      "metadata": {
        "colab": {
          "base_uri": "https://localhost:8080/"
        },
        "id": "wwIEffryF0Fb",
        "outputId": "dae4daf9-60e0-48a2-e4b8-98c21910630f"
      },
      "outputs": [
        {
          "output_type": "stream",
          "name": "stdout",
          "text": [
            "              precision    recall  f1-score   support\n",
            "\n",
            "           0       0.97      0.97      0.97        71\n",
            "           1       0.95      0.95      0.95        43\n",
            "\n",
            "    accuracy                           0.96       114\n",
            "   macro avg       0.96      0.96      0.96       114\n",
            "weighted avg       0.96      0.96      0.96       114\n",
            "\n"
          ]
        }
      ],
      "source": [
        "print(classification_report(y_test,y_pred_1))"
      ]
    },
    {
      "cell_type": "markdown",
      "metadata": {
        "id": "jjmdLg_b9olL"
      },
      "source": [
        "##**Full Cross Validation Grid Search for K Value**"
      ]
    },
    {
      "cell_type": "markdown",
      "metadata": {
        "id": "DcwK-Zqc9olM"
      },
      "source": [
        "## Creating a Pipeline to find K value\n",
        "\n",
        "We'll use a Pipeline object to set up a workflow of operations:\n",
        "\n",
        "1. Scale Data\n",
        "2. Create Model on Scaled Data"
      ]
    },
    {
      "cell_type": "code",
      "execution_count": 27,
      "metadata": {
        "id": "il-BGcfx9olN"
      },
      "outputs": [],
      "source": [
        "scaler = StandardScaler()\n",
        "knn = KNeighborsClassifier()"
      ]
    },
    {
      "cell_type": "code",
      "execution_count": 28,
      "metadata": {
        "id": "FjJQST479olO"
      },
      "outputs": [],
      "source": [
        "operations = [('scaler',scaler),('knn',knn)]"
      ]
    },
    {
      "cell_type": "code",
      "execution_count": 29,
      "metadata": {
        "id": "2X8bLwq79olO"
      },
      "outputs": [],
      "source": [
        "from sklearn.pipeline import Pipeline\n",
        "pipe = Pipeline(operations)"
      ]
    },
    {
      "cell_type": "markdown",
      "metadata": {
        "id": "BVKvE_7mQIJs"
      },
      "source": [
        "##**Use GridSearchCV for finding optimized model paprameters**"
      ]
    },
    {
      "cell_type": "code",
      "execution_count": 30,
      "metadata": {
        "id": "mcmLQGCy9olP"
      },
      "outputs": [],
      "source": [
        "from sklearn.model_selection import GridSearchCV"
      ]
    },
    {
      "cell_type": "markdown",
      "metadata": {
        "id": "QLBRTVmv9olP"
      },
      "source": [
        "---\n",
        "*Note: If your parameter grid is going inside a PipeLine, your parameter name needs to be specified in the following manner:**\n",
        "\n",
        "* chosen_string_name + **two** underscores + parameter key name\n",
        "* model_name + __ + parameter name\n",
        "* knn_model + __ + n_neighbors\n",
        "* knn_model__n_neighbors\n",
        "---"
      ]
    },
    {
      "cell_type": "code",
      "execution_count": 31,
      "metadata": {
        "colab": {
          "base_uri": "https://localhost:8080/"
        },
        "id": "Au9mewLN9olP",
        "outputId": "6c287e34-5f7a-4171-effa-c8ecbcf8d600"
      },
      "outputs": [
        {
          "output_type": "execute_result",
          "data": {
            "text/plain": [
              "[1, 2, 3, 4, 5, 6, 7, 8, 9, 10, 11, 12, 13, 14, 15, 16, 17, 18, 19]"
            ]
          },
          "metadata": {},
          "execution_count": 31
        }
      ],
      "source": [
        "k_values = list(range(1,20))\n",
        "k_values"
      ]
    },
    {
      "cell_type": "code",
      "execution_count": 32,
      "metadata": {
        "id": "aCAUOoY29olQ"
      },
      "outputs": [],
      "source": [
        "param_grid = {'knn__n_neighbors': k_values}"
      ]
    },
    {
      "cell_type": "code",
      "execution_count": 33,
      "metadata": {
        "id": "JV61sFeR9olQ"
      },
      "outputs": [],
      "source": [
        "full_cv_classifier = GridSearchCV(pipe,param_grid,cv=5,scoring='accuracy')"
      ]
    },
    {
      "cell_type": "code",
      "execution_count": 33,
      "metadata": {
        "id": "GYx0nGZGBb_z"
      },
      "outputs": [],
      "source": []
    },
    {
      "cell_type": "code",
      "execution_count": 34,
      "metadata": {
        "colab": {
          "base_uri": "https://localhost:8080/",
          "height": 152
        },
        "id": "-doC8Be29olQ",
        "outputId": "8741ce18-312f-44c9-ee5d-c7086848ddc8"
      },
      "outputs": [
        {
          "output_type": "execute_result",
          "data": {
            "text/plain": [
              "GridSearchCV(cv=5,\n",
              "             estimator=Pipeline(steps=[('scaler', StandardScaler()),\n",
              "                                       ('knn', KNeighborsClassifier())]),\n",
              "             param_grid={'knn__n_neighbors': [1, 2, 3, 4, 5, 6, 7, 8, 9, 10, 11,\n",
              "                                              12, 13, 14, 15, 16, 17, 18, 19]},\n",
              "             scoring='accuracy')"
            ],
            "text/html": [
              "<style>#sk-container-id-2 {color: black;background-color: white;}#sk-container-id-2 pre{padding: 0;}#sk-container-id-2 div.sk-toggleable {background-color: white;}#sk-container-id-2 label.sk-toggleable__label {cursor: pointer;display: block;width: 100%;margin-bottom: 0;padding: 0.3em;box-sizing: border-box;text-align: center;}#sk-container-id-2 label.sk-toggleable__label-arrow:before {content: \"▸\";float: left;margin-right: 0.25em;color: #696969;}#sk-container-id-2 label.sk-toggleable__label-arrow:hover:before {color: black;}#sk-container-id-2 div.sk-estimator:hover label.sk-toggleable__label-arrow:before {color: black;}#sk-container-id-2 div.sk-toggleable__content {max-height: 0;max-width: 0;overflow: hidden;text-align: left;background-color: #f0f8ff;}#sk-container-id-2 div.sk-toggleable__content pre {margin: 0.2em;color: black;border-radius: 0.25em;background-color: #f0f8ff;}#sk-container-id-2 input.sk-toggleable__control:checked~div.sk-toggleable__content {max-height: 200px;max-width: 100%;overflow: auto;}#sk-container-id-2 input.sk-toggleable__control:checked~label.sk-toggleable__label-arrow:before {content: \"▾\";}#sk-container-id-2 div.sk-estimator input.sk-toggleable__control:checked~label.sk-toggleable__label {background-color: #d4ebff;}#sk-container-id-2 div.sk-label input.sk-toggleable__control:checked~label.sk-toggleable__label {background-color: #d4ebff;}#sk-container-id-2 input.sk-hidden--visually {border: 0;clip: rect(1px 1px 1px 1px);clip: rect(1px, 1px, 1px, 1px);height: 1px;margin: -1px;overflow: hidden;padding: 0;position: absolute;width: 1px;}#sk-container-id-2 div.sk-estimator {font-family: monospace;background-color: #f0f8ff;border: 1px dotted black;border-radius: 0.25em;box-sizing: border-box;margin-bottom: 0.5em;}#sk-container-id-2 div.sk-estimator:hover {background-color: #d4ebff;}#sk-container-id-2 div.sk-parallel-item::after {content: \"\";width: 100%;border-bottom: 1px solid gray;flex-grow: 1;}#sk-container-id-2 div.sk-label:hover label.sk-toggleable__label {background-color: #d4ebff;}#sk-container-id-2 div.sk-serial::before {content: \"\";position: absolute;border-left: 1px solid gray;box-sizing: border-box;top: 0;bottom: 0;left: 50%;z-index: 0;}#sk-container-id-2 div.sk-serial {display: flex;flex-direction: column;align-items: center;background-color: white;padding-right: 0.2em;padding-left: 0.2em;position: relative;}#sk-container-id-2 div.sk-item {position: relative;z-index: 1;}#sk-container-id-2 div.sk-parallel {display: flex;align-items: stretch;justify-content: center;background-color: white;position: relative;}#sk-container-id-2 div.sk-item::before, #sk-container-id-2 div.sk-parallel-item::before {content: \"\";position: absolute;border-left: 1px solid gray;box-sizing: border-box;top: 0;bottom: 0;left: 50%;z-index: -1;}#sk-container-id-2 div.sk-parallel-item {display: flex;flex-direction: column;z-index: 1;position: relative;background-color: white;}#sk-container-id-2 div.sk-parallel-item:first-child::after {align-self: flex-end;width: 50%;}#sk-container-id-2 div.sk-parallel-item:last-child::after {align-self: flex-start;width: 50%;}#sk-container-id-2 div.sk-parallel-item:only-child::after {width: 0;}#sk-container-id-2 div.sk-dashed-wrapped {border: 1px dashed gray;margin: 0 0.4em 0.5em 0.4em;box-sizing: border-box;padding-bottom: 0.4em;background-color: white;}#sk-container-id-2 div.sk-label label {font-family: monospace;font-weight: bold;display: inline-block;line-height: 1.2em;}#sk-container-id-2 div.sk-label-container {text-align: center;}#sk-container-id-2 div.sk-container {/* jupyter's `normalize.less` sets `[hidden] { display: none; }` but bootstrap.min.css set `[hidden] { display: none !important; }` so we also need the `!important` here to be able to override the default hidden behavior on the sphinx rendered scikit-learn.org. See: https://github.com/scikit-learn/scikit-learn/issues/21755 */display: inline-block !important;position: relative;}#sk-container-id-2 div.sk-text-repr-fallback {display: none;}</style><div id=\"sk-container-id-2\" class=\"sk-top-container\"><div class=\"sk-text-repr-fallback\"><pre>GridSearchCV(cv=5,\n",
              "             estimator=Pipeline(steps=[(&#x27;scaler&#x27;, StandardScaler()),\n",
              "                                       (&#x27;knn&#x27;, KNeighborsClassifier())]),\n",
              "             param_grid={&#x27;knn__n_neighbors&#x27;: [1, 2, 3, 4, 5, 6, 7, 8, 9, 10, 11,\n",
              "                                              12, 13, 14, 15, 16, 17, 18, 19]},\n",
              "             scoring=&#x27;accuracy&#x27;)</pre><b>In a Jupyter environment, please rerun this cell to show the HTML representation or trust the notebook. <br />On GitHub, the HTML representation is unable to render, please try loading this page with nbviewer.org.</b></div><div class=\"sk-container\" hidden><div class=\"sk-item sk-dashed-wrapped\"><div class=\"sk-label-container\"><div class=\"sk-label sk-toggleable\"><input class=\"sk-toggleable__control sk-hidden--visually\" id=\"sk-estimator-id-2\" type=\"checkbox\" ><label for=\"sk-estimator-id-2\" class=\"sk-toggleable__label sk-toggleable__label-arrow\">GridSearchCV</label><div class=\"sk-toggleable__content\"><pre>GridSearchCV(cv=5,\n",
              "             estimator=Pipeline(steps=[(&#x27;scaler&#x27;, StandardScaler()),\n",
              "                                       (&#x27;knn&#x27;, KNeighborsClassifier())]),\n",
              "             param_grid={&#x27;knn__n_neighbors&#x27;: [1, 2, 3, 4, 5, 6, 7, 8, 9, 10, 11,\n",
              "                                              12, 13, 14, 15, 16, 17, 18, 19]},\n",
              "             scoring=&#x27;accuracy&#x27;)</pre></div></div></div><div class=\"sk-parallel\"><div class=\"sk-parallel-item\"><div class=\"sk-item\"><div class=\"sk-label-container\"><div class=\"sk-label sk-toggleable\"><input class=\"sk-toggleable__control sk-hidden--visually\" id=\"sk-estimator-id-3\" type=\"checkbox\" ><label for=\"sk-estimator-id-3\" class=\"sk-toggleable__label sk-toggleable__label-arrow\">estimator: Pipeline</label><div class=\"sk-toggleable__content\"><pre>Pipeline(steps=[(&#x27;scaler&#x27;, StandardScaler()), (&#x27;knn&#x27;, KNeighborsClassifier())])</pre></div></div></div><div class=\"sk-serial\"><div class=\"sk-item\"><div class=\"sk-serial\"><div class=\"sk-item\"><div class=\"sk-estimator sk-toggleable\"><input class=\"sk-toggleable__control sk-hidden--visually\" id=\"sk-estimator-id-4\" type=\"checkbox\" ><label for=\"sk-estimator-id-4\" class=\"sk-toggleable__label sk-toggleable__label-arrow\">StandardScaler</label><div class=\"sk-toggleable__content\"><pre>StandardScaler()</pre></div></div></div><div class=\"sk-item\"><div class=\"sk-estimator sk-toggleable\"><input class=\"sk-toggleable__control sk-hidden--visually\" id=\"sk-estimator-id-5\" type=\"checkbox\" ><label for=\"sk-estimator-id-5\" class=\"sk-toggleable__label sk-toggleable__label-arrow\">KNeighborsClassifier</label><div class=\"sk-toggleable__content\"><pre>KNeighborsClassifier()</pre></div></div></div></div></div></div></div></div></div></div></div></div>"
            ]
          },
          "metadata": {},
          "execution_count": 34
        }
      ],
      "source": [
        "full_cv_classifier.fit(X_train,y_train)"
      ]
    },
    {
      "cell_type": "code",
      "execution_count": 35,
      "metadata": {
        "colab": {
          "base_uri": "https://localhost:8080/"
        },
        "id": "TrnmVUVq9olQ",
        "outputId": "fc890f24-8983-4282-d96b-2a580fcf8e0f"
      },
      "outputs": [
        {
          "output_type": "execute_result",
          "data": {
            "text/plain": [
              "{'memory': None,\n",
              " 'steps': [('scaler', StandardScaler()), ('knn', KNeighborsClassifier())],\n",
              " 'verbose': False,\n",
              " 'scaler': StandardScaler(),\n",
              " 'knn': KNeighborsClassifier(),\n",
              " 'scaler__copy': True,\n",
              " 'scaler__with_mean': True,\n",
              " 'scaler__with_std': True,\n",
              " 'knn__algorithm': 'auto',\n",
              " 'knn__leaf_size': 30,\n",
              " 'knn__metric': 'minkowski',\n",
              " 'knn__metric_params': None,\n",
              " 'knn__n_jobs': None,\n",
              " 'knn__n_neighbors': 5,\n",
              " 'knn__p': 2,\n",
              " 'knn__weights': 'uniform'}"
            ]
          },
          "metadata": {},
          "execution_count": 35
        }
      ],
      "source": [
        "full_cv_classifier.best_estimator_.get_params()"
      ]
    },
    {
      "cell_type": "markdown",
      "metadata": {
        "id": "RDFWmz4b9olS"
      },
      "source": [
        "## Final Model\n",
        "\n",
        "We just saw that our  GridSearch recommends a K=5 (in line with our alternative Elbow Method). Let's now use the PipeLine again, but this time, no need to do a grid search, instead we will evaluate on our hold-out Test Set."
      ]
    },
    {
      "cell_type": "code",
      "execution_count": 36,
      "metadata": {
        "id": "62U7vTf99olT"
      },
      "outputs": [],
      "source": [
        "scaler = StandardScaler()\n",
        "knn = KNeighborsClassifier(n_neighbors=5)\n",
        "operations = [('scaler',scaler),('knn5',knn)]"
      ]
    },
    {
      "cell_type": "code",
      "execution_count": 37,
      "metadata": {
        "id": "VpGN54MA9olT"
      },
      "outputs": [],
      "source": [
        "pipe = Pipeline(operations)"
      ]
    },
    {
      "cell_type": "code",
      "execution_count": 38,
      "metadata": {
        "colab": {
          "base_uri": "https://localhost:8080/",
          "height": 126
        },
        "id": "13j-IjGI9olT",
        "outputId": "aaa2ec6c-07d4-457b-bf24-43306026badb"
      },
      "outputs": [
        {
          "output_type": "execute_result",
          "data": {
            "text/plain": [
              "Pipeline(steps=[('scaler', StandardScaler()), ('knn5', KNeighborsClassifier())])"
            ],
            "text/html": [
              "<style>#sk-container-id-3 {color: black;background-color: white;}#sk-container-id-3 pre{padding: 0;}#sk-container-id-3 div.sk-toggleable {background-color: white;}#sk-container-id-3 label.sk-toggleable__label {cursor: pointer;display: block;width: 100%;margin-bottom: 0;padding: 0.3em;box-sizing: border-box;text-align: center;}#sk-container-id-3 label.sk-toggleable__label-arrow:before {content: \"▸\";float: left;margin-right: 0.25em;color: #696969;}#sk-container-id-3 label.sk-toggleable__label-arrow:hover:before {color: black;}#sk-container-id-3 div.sk-estimator:hover label.sk-toggleable__label-arrow:before {color: black;}#sk-container-id-3 div.sk-toggleable__content {max-height: 0;max-width: 0;overflow: hidden;text-align: left;background-color: #f0f8ff;}#sk-container-id-3 div.sk-toggleable__content pre {margin: 0.2em;color: black;border-radius: 0.25em;background-color: #f0f8ff;}#sk-container-id-3 input.sk-toggleable__control:checked~div.sk-toggleable__content {max-height: 200px;max-width: 100%;overflow: auto;}#sk-container-id-3 input.sk-toggleable__control:checked~label.sk-toggleable__label-arrow:before {content: \"▾\";}#sk-container-id-3 div.sk-estimator input.sk-toggleable__control:checked~label.sk-toggleable__label {background-color: #d4ebff;}#sk-container-id-3 div.sk-label input.sk-toggleable__control:checked~label.sk-toggleable__label {background-color: #d4ebff;}#sk-container-id-3 input.sk-hidden--visually {border: 0;clip: rect(1px 1px 1px 1px);clip: rect(1px, 1px, 1px, 1px);height: 1px;margin: -1px;overflow: hidden;padding: 0;position: absolute;width: 1px;}#sk-container-id-3 div.sk-estimator {font-family: monospace;background-color: #f0f8ff;border: 1px dotted black;border-radius: 0.25em;box-sizing: border-box;margin-bottom: 0.5em;}#sk-container-id-3 div.sk-estimator:hover {background-color: #d4ebff;}#sk-container-id-3 div.sk-parallel-item::after {content: \"\";width: 100%;border-bottom: 1px solid gray;flex-grow: 1;}#sk-container-id-3 div.sk-label:hover label.sk-toggleable__label {background-color: #d4ebff;}#sk-container-id-3 div.sk-serial::before {content: \"\";position: absolute;border-left: 1px solid gray;box-sizing: border-box;top: 0;bottom: 0;left: 50%;z-index: 0;}#sk-container-id-3 div.sk-serial {display: flex;flex-direction: column;align-items: center;background-color: white;padding-right: 0.2em;padding-left: 0.2em;position: relative;}#sk-container-id-3 div.sk-item {position: relative;z-index: 1;}#sk-container-id-3 div.sk-parallel {display: flex;align-items: stretch;justify-content: center;background-color: white;position: relative;}#sk-container-id-3 div.sk-item::before, #sk-container-id-3 div.sk-parallel-item::before {content: \"\";position: absolute;border-left: 1px solid gray;box-sizing: border-box;top: 0;bottom: 0;left: 50%;z-index: -1;}#sk-container-id-3 div.sk-parallel-item {display: flex;flex-direction: column;z-index: 1;position: relative;background-color: white;}#sk-container-id-3 div.sk-parallel-item:first-child::after {align-self: flex-end;width: 50%;}#sk-container-id-3 div.sk-parallel-item:last-child::after {align-self: flex-start;width: 50%;}#sk-container-id-3 div.sk-parallel-item:only-child::after {width: 0;}#sk-container-id-3 div.sk-dashed-wrapped {border: 1px dashed gray;margin: 0 0.4em 0.5em 0.4em;box-sizing: border-box;padding-bottom: 0.4em;background-color: white;}#sk-container-id-3 div.sk-label label {font-family: monospace;font-weight: bold;display: inline-block;line-height: 1.2em;}#sk-container-id-3 div.sk-label-container {text-align: center;}#sk-container-id-3 div.sk-container {/* jupyter's `normalize.less` sets `[hidden] { display: none; }` but bootstrap.min.css set `[hidden] { display: none !important; }` so we also need the `!important` here to be able to override the default hidden behavior on the sphinx rendered scikit-learn.org. See: https://github.com/scikit-learn/scikit-learn/issues/21755 */display: inline-block !important;position: relative;}#sk-container-id-3 div.sk-text-repr-fallback {display: none;}</style><div id=\"sk-container-id-3\" class=\"sk-top-container\"><div class=\"sk-text-repr-fallback\"><pre>Pipeline(steps=[(&#x27;scaler&#x27;, StandardScaler()), (&#x27;knn5&#x27;, KNeighborsClassifier())])</pre><b>In a Jupyter environment, please rerun this cell to show the HTML representation or trust the notebook. <br />On GitHub, the HTML representation is unable to render, please try loading this page with nbviewer.org.</b></div><div class=\"sk-container\" hidden><div class=\"sk-item sk-dashed-wrapped\"><div class=\"sk-label-container\"><div class=\"sk-label sk-toggleable\"><input class=\"sk-toggleable__control sk-hidden--visually\" id=\"sk-estimator-id-6\" type=\"checkbox\" ><label for=\"sk-estimator-id-6\" class=\"sk-toggleable__label sk-toggleable__label-arrow\">Pipeline</label><div class=\"sk-toggleable__content\"><pre>Pipeline(steps=[(&#x27;scaler&#x27;, StandardScaler()), (&#x27;knn5&#x27;, KNeighborsClassifier())])</pre></div></div></div><div class=\"sk-serial\"><div class=\"sk-item\"><div class=\"sk-estimator sk-toggleable\"><input class=\"sk-toggleable__control sk-hidden--visually\" id=\"sk-estimator-id-7\" type=\"checkbox\" ><label for=\"sk-estimator-id-7\" class=\"sk-toggleable__label sk-toggleable__label-arrow\">StandardScaler</label><div class=\"sk-toggleable__content\"><pre>StandardScaler()</pre></div></div></div><div class=\"sk-item\"><div class=\"sk-estimator sk-toggleable\"><input class=\"sk-toggleable__control sk-hidden--visually\" id=\"sk-estimator-id-8\" type=\"checkbox\" ><label for=\"sk-estimator-id-8\" class=\"sk-toggleable__label sk-toggleable__label-arrow\">KNeighborsClassifier</label><div class=\"sk-toggleable__content\"><pre>KNeighborsClassifier()</pre></div></div></div></div></div></div></div>"
            ]
          },
          "metadata": {},
          "execution_count": 38
        }
      ],
      "source": [
        "pipe.fit(X_train,y_train)"
      ]
    },
    {
      "cell_type": "code",
      "execution_count": 39,
      "metadata": {
        "id": "9Mn4zFqp9olT"
      },
      "outputs": [],
      "source": [
        "pipe_pred = pipe.predict(X_test)"
      ]
    },
    {
      "cell_type": "code",
      "execution_count": 40,
      "metadata": {
        "colab": {
          "base_uri": "https://localhost:8080/"
        },
        "id": "9caR1XWO9olU",
        "outputId": "c5fd9f98-e138-441e-9a13-aad5fa2fbca2"
      },
      "outputs": [
        {
          "output_type": "stream",
          "name": "stdout",
          "text": [
            "              precision    recall  f1-score   support\n",
            "\n",
            "           0       0.96      0.96      0.96        71\n",
            "           1       0.93      0.93      0.93        43\n",
            "\n",
            "    accuracy                           0.95       114\n",
            "   macro avg       0.94      0.94      0.94       114\n",
            "weighted avg       0.95      0.95      0.95       114\n",
            "\n"
          ]
        }
      ],
      "source": [
        "print(classification_report(y_test,pipe_pred))"
      ]
    },
    {
      "cell_type": "markdown",
      "metadata": {
        "id": "UZE-aTz7T0M7"
      },
      "source": [
        "##**TASK**\n",
        "1. Import \"KNN_Task_Dataset\"\n",
        "2. Check null values count from data, remove the unnamed columns and null values columns from the data.\n",
        "3. Create inpute features and Target feature from dataset and use Train|Test Split\n",
        "4. Use Standard Scaler for Data scaling\n",
        "5. Import KNN classifier model and fit the data into the model uising K=1\n",
        "6. Model Prediction and Evaluation\n",
        "7. Use Elbow Method for Choosing K-Values\n",
        "8. Re-evaluate the model using new K-value"
      ]
    },
    {
      "cell_type": "code",
      "execution_count": 41,
      "metadata": {
        "id": "D4-TD8pyE-sc"
      },
      "outputs": [],
      "source": [
        "import pandas as pd\n",
        "import numpy as np\n",
        "import matplotlib.pyplot as plt\n",
        "import seaborn as sns\n",
        "from sklearn.preprocessing import LabelEncoder, StandardScaler\n",
        "from sklearn.model_selection import train_test_split\n",
        "from sklearn.neighbors import KNeighborsClassifier\n",
        "from sklearn.metrics import accuracy_score, confusion_matrix, precision_score, recall_score, classification_report\n",
        "from sklearn.pipeline import Pipeline"
      ]
    },
    {
      "cell_type": "markdown",
      "metadata": {
        "id": "VSOKvgZyE-sd"
      },
      "source": [
        "1. Import \"KNN_Task_Dataset\""
      ]
    },
    {
      "cell_type": "code",
      "execution_count": 42,
      "metadata": {
        "colab": {
          "base_uri": "https://localhost:8080/",
          "height": 423
        },
        "id": "UYScgyYuRKFL",
        "outputId": "02fb6432-b09b-4ff7-c62c-1cdd34a1ce95"
      },
      "outputs": [
        {
          "output_type": "execute_result",
          "data": {
            "text/plain": [
              "     Unnamed: 0  Unnamed: 1  Feature_1  Feature_2  Feature_3  Feature_4  \\\n",
              "0           NaN      0.0200     0.0371     0.0428     0.0207     0.0954   \n",
              "1           0.0      0.0453     0.0523     0.0843     0.0689     0.1183   \n",
              "2           1.0      0.0262     0.0582     0.1099     0.1083     0.0974   \n",
              "3           2.0      0.0100     0.0171     0.0623     0.0205     0.0205   \n",
              "4           3.0      0.0762     0.0666     0.0481     0.0394     0.0590   \n",
              "..          ...         ...        ...        ...        ...        ...   \n",
              "203       202.0      0.0187     0.0346     0.0168     0.0177     0.0393   \n",
              "204       203.0      0.0323     0.0101     0.0298     0.0564     0.0760   \n",
              "205       204.0      0.0522     0.0437     0.0180     0.0292     0.0351   \n",
              "206       205.0      0.0303     0.0353     0.0490     0.0608     0.0167   \n",
              "207       206.0      0.0260     0.0363     0.0136     0.0272     0.0214   \n",
              "\n",
              "     Feature_5  Feature_6  Feature_7  Feature_8  Feature_9  Feature_10  \\\n",
              "0       0.0986     0.1539     0.1601     0.3109     0.2111      0.1609   \n",
              "1       0.2583     0.2156     0.3481     0.3337     0.2872      0.4918   \n",
              "2       0.2280     0.2431     0.3771     0.5598     0.6194      0.6333   \n",
              "3       0.0368     0.1098     0.1276     0.0598     0.1264      0.0881   \n",
              "4       0.0649     0.1209     0.2467     0.3564     0.4459      0.4152   \n",
              "..         ...        ...        ...        ...        ...         ...   \n",
              "203     0.1630     0.2028     0.1694     0.2328     0.2684      0.3108   \n",
              "204     0.0958     0.0990     0.1018     0.1030     0.2154      0.3085   \n",
              "205     0.1171     0.1257     0.1178     0.1258     0.2529      0.2716   \n",
              "206     0.1354     0.1465     0.1123     0.1945     0.2354      0.2898   \n",
              "207     0.0338     0.0655     0.1400     0.1843     0.2354      0.2720   \n",
              "\n",
              "     Feature_11  Feature_12  Feature_13  Feature_14 Diagnosis  \n",
              "0        0.1582      0.2238      0.0645      0.0660         R  \n",
              "1        0.6552      0.6919      0.7797      0.7464         R  \n",
              "2        0.7060      0.5544      0.5320      0.6479         R  \n",
              "3        0.1992      0.0184      0.2261      0.1729         R  \n",
              "4        0.3952      0.4256      0.4135      0.4528         R  \n",
              "..          ...         ...         ...         ...       ...  \n",
              "203      0.2933      0.2275      0.0994      0.1801         M  \n",
              "204      0.3425      0.2990      0.1402      0.1235         M  \n",
              "205      0.2374      0.1878      0.0983      0.0683         M  \n",
              "206      0.2812      0.1578      0.0273      0.0673         M  \n",
              "207      0.2442      0.1665      0.0336      0.1302         M  \n",
              "\n",
              "[208 rows x 17 columns]"
            ],
            "text/html": [
              "\n",
              "  <div id=\"df-a17f726a-58b2-470f-b78e-be4a5be1dfed\">\n",
              "    <div class=\"colab-df-container\">\n",
              "      <div>\n",
              "<style scoped>\n",
              "    .dataframe tbody tr th:only-of-type {\n",
              "        vertical-align: middle;\n",
              "    }\n",
              "\n",
              "    .dataframe tbody tr th {\n",
              "        vertical-align: top;\n",
              "    }\n",
              "\n",
              "    .dataframe thead th {\n",
              "        text-align: right;\n",
              "    }\n",
              "</style>\n",
              "<table border=\"1\" class=\"dataframe\">\n",
              "  <thead>\n",
              "    <tr style=\"text-align: right;\">\n",
              "      <th></th>\n",
              "      <th>Unnamed: 0</th>\n",
              "      <th>Unnamed: 1</th>\n",
              "      <th>Feature_1</th>\n",
              "      <th>Feature_2</th>\n",
              "      <th>Feature_3</th>\n",
              "      <th>Feature_4</th>\n",
              "      <th>Feature_5</th>\n",
              "      <th>Feature_6</th>\n",
              "      <th>Feature_7</th>\n",
              "      <th>Feature_8</th>\n",
              "      <th>Feature_9</th>\n",
              "      <th>Feature_10</th>\n",
              "      <th>Feature_11</th>\n",
              "      <th>Feature_12</th>\n",
              "      <th>Feature_13</th>\n",
              "      <th>Feature_14</th>\n",
              "      <th>Diagnosis</th>\n",
              "    </tr>\n",
              "  </thead>\n",
              "  <tbody>\n",
              "    <tr>\n",
              "      <th>0</th>\n",
              "      <td>NaN</td>\n",
              "      <td>0.0200</td>\n",
              "      <td>0.0371</td>\n",
              "      <td>0.0428</td>\n",
              "      <td>0.0207</td>\n",
              "      <td>0.0954</td>\n",
              "      <td>0.0986</td>\n",
              "      <td>0.1539</td>\n",
              "      <td>0.1601</td>\n",
              "      <td>0.3109</td>\n",
              "      <td>0.2111</td>\n",
              "      <td>0.1609</td>\n",
              "      <td>0.1582</td>\n",
              "      <td>0.2238</td>\n",
              "      <td>0.0645</td>\n",
              "      <td>0.0660</td>\n",
              "      <td>R</td>\n",
              "    </tr>\n",
              "    <tr>\n",
              "      <th>1</th>\n",
              "      <td>0.0</td>\n",
              "      <td>0.0453</td>\n",
              "      <td>0.0523</td>\n",
              "      <td>0.0843</td>\n",
              "      <td>0.0689</td>\n",
              "      <td>0.1183</td>\n",
              "      <td>0.2583</td>\n",
              "      <td>0.2156</td>\n",
              "      <td>0.3481</td>\n",
              "      <td>0.3337</td>\n",
              "      <td>0.2872</td>\n",
              "      <td>0.4918</td>\n",
              "      <td>0.6552</td>\n",
              "      <td>0.6919</td>\n",
              "      <td>0.7797</td>\n",
              "      <td>0.7464</td>\n",
              "      <td>R</td>\n",
              "    </tr>\n",
              "    <tr>\n",
              "      <th>2</th>\n",
              "      <td>1.0</td>\n",
              "      <td>0.0262</td>\n",
              "      <td>0.0582</td>\n",
              "      <td>0.1099</td>\n",
              "      <td>0.1083</td>\n",
              "      <td>0.0974</td>\n",
              "      <td>0.2280</td>\n",
              "      <td>0.2431</td>\n",
              "      <td>0.3771</td>\n",
              "      <td>0.5598</td>\n",
              "      <td>0.6194</td>\n",
              "      <td>0.6333</td>\n",
              "      <td>0.7060</td>\n",
              "      <td>0.5544</td>\n",
              "      <td>0.5320</td>\n",
              "      <td>0.6479</td>\n",
              "      <td>R</td>\n",
              "    </tr>\n",
              "    <tr>\n",
              "      <th>3</th>\n",
              "      <td>2.0</td>\n",
              "      <td>0.0100</td>\n",
              "      <td>0.0171</td>\n",
              "      <td>0.0623</td>\n",
              "      <td>0.0205</td>\n",
              "      <td>0.0205</td>\n",
              "      <td>0.0368</td>\n",
              "      <td>0.1098</td>\n",
              "      <td>0.1276</td>\n",
              "      <td>0.0598</td>\n",
              "      <td>0.1264</td>\n",
              "      <td>0.0881</td>\n",
              "      <td>0.1992</td>\n",
              "      <td>0.0184</td>\n",
              "      <td>0.2261</td>\n",
              "      <td>0.1729</td>\n",
              "      <td>R</td>\n",
              "    </tr>\n",
              "    <tr>\n",
              "      <th>4</th>\n",
              "      <td>3.0</td>\n",
              "      <td>0.0762</td>\n",
              "      <td>0.0666</td>\n",
              "      <td>0.0481</td>\n",
              "      <td>0.0394</td>\n",
              "      <td>0.0590</td>\n",
              "      <td>0.0649</td>\n",
              "      <td>0.1209</td>\n",
              "      <td>0.2467</td>\n",
              "      <td>0.3564</td>\n",
              "      <td>0.4459</td>\n",
              "      <td>0.4152</td>\n",
              "      <td>0.3952</td>\n",
              "      <td>0.4256</td>\n",
              "      <td>0.4135</td>\n",
              "      <td>0.4528</td>\n",
              "      <td>R</td>\n",
              "    </tr>\n",
              "    <tr>\n",
              "      <th>...</th>\n",
              "      <td>...</td>\n",
              "      <td>...</td>\n",
              "      <td>...</td>\n",
              "      <td>...</td>\n",
              "      <td>...</td>\n",
              "      <td>...</td>\n",
              "      <td>...</td>\n",
              "      <td>...</td>\n",
              "      <td>...</td>\n",
              "      <td>...</td>\n",
              "      <td>...</td>\n",
              "      <td>...</td>\n",
              "      <td>...</td>\n",
              "      <td>...</td>\n",
              "      <td>...</td>\n",
              "      <td>...</td>\n",
              "      <td>...</td>\n",
              "    </tr>\n",
              "    <tr>\n",
              "      <th>203</th>\n",
              "      <td>202.0</td>\n",
              "      <td>0.0187</td>\n",
              "      <td>0.0346</td>\n",
              "      <td>0.0168</td>\n",
              "      <td>0.0177</td>\n",
              "      <td>0.0393</td>\n",
              "      <td>0.1630</td>\n",
              "      <td>0.2028</td>\n",
              "      <td>0.1694</td>\n",
              "      <td>0.2328</td>\n",
              "      <td>0.2684</td>\n",
              "      <td>0.3108</td>\n",
              "      <td>0.2933</td>\n",
              "      <td>0.2275</td>\n",
              "      <td>0.0994</td>\n",
              "      <td>0.1801</td>\n",
              "      <td>M</td>\n",
              "    </tr>\n",
              "    <tr>\n",
              "      <th>204</th>\n",
              "      <td>203.0</td>\n",
              "      <td>0.0323</td>\n",
              "      <td>0.0101</td>\n",
              "      <td>0.0298</td>\n",
              "      <td>0.0564</td>\n",
              "      <td>0.0760</td>\n",
              "      <td>0.0958</td>\n",
              "      <td>0.0990</td>\n",
              "      <td>0.1018</td>\n",
              "      <td>0.1030</td>\n",
              "      <td>0.2154</td>\n",
              "      <td>0.3085</td>\n",
              "      <td>0.3425</td>\n",
              "      <td>0.2990</td>\n",
              "      <td>0.1402</td>\n",
              "      <td>0.1235</td>\n",
              "      <td>M</td>\n",
              "    </tr>\n",
              "    <tr>\n",
              "      <th>205</th>\n",
              "      <td>204.0</td>\n",
              "      <td>0.0522</td>\n",
              "      <td>0.0437</td>\n",
              "      <td>0.0180</td>\n",
              "      <td>0.0292</td>\n",
              "      <td>0.0351</td>\n",
              "      <td>0.1171</td>\n",
              "      <td>0.1257</td>\n",
              "      <td>0.1178</td>\n",
              "      <td>0.1258</td>\n",
              "      <td>0.2529</td>\n",
              "      <td>0.2716</td>\n",
              "      <td>0.2374</td>\n",
              "      <td>0.1878</td>\n",
              "      <td>0.0983</td>\n",
              "      <td>0.0683</td>\n",
              "      <td>M</td>\n",
              "    </tr>\n",
              "    <tr>\n",
              "      <th>206</th>\n",
              "      <td>205.0</td>\n",
              "      <td>0.0303</td>\n",
              "      <td>0.0353</td>\n",
              "      <td>0.0490</td>\n",
              "      <td>0.0608</td>\n",
              "      <td>0.0167</td>\n",
              "      <td>0.1354</td>\n",
              "      <td>0.1465</td>\n",
              "      <td>0.1123</td>\n",
              "      <td>0.1945</td>\n",
              "      <td>0.2354</td>\n",
              "      <td>0.2898</td>\n",
              "      <td>0.2812</td>\n",
              "      <td>0.1578</td>\n",
              "      <td>0.0273</td>\n",
              "      <td>0.0673</td>\n",
              "      <td>M</td>\n",
              "    </tr>\n",
              "    <tr>\n",
              "      <th>207</th>\n",
              "      <td>206.0</td>\n",
              "      <td>0.0260</td>\n",
              "      <td>0.0363</td>\n",
              "      <td>0.0136</td>\n",
              "      <td>0.0272</td>\n",
              "      <td>0.0214</td>\n",
              "      <td>0.0338</td>\n",
              "      <td>0.0655</td>\n",
              "      <td>0.1400</td>\n",
              "      <td>0.1843</td>\n",
              "      <td>0.2354</td>\n",
              "      <td>0.2720</td>\n",
              "      <td>0.2442</td>\n",
              "      <td>0.1665</td>\n",
              "      <td>0.0336</td>\n",
              "      <td>0.1302</td>\n",
              "      <td>M</td>\n",
              "    </tr>\n",
              "  </tbody>\n",
              "</table>\n",
              "<p>208 rows × 17 columns</p>\n",
              "</div>\n",
              "      <button class=\"colab-df-convert\" onclick=\"convertToInteractive('df-a17f726a-58b2-470f-b78e-be4a5be1dfed')\"\n",
              "              title=\"Convert this dataframe to an interactive table.\"\n",
              "              style=\"display:none;\">\n",
              "        \n",
              "  <svg xmlns=\"http://www.w3.org/2000/svg\" height=\"24px\"viewBox=\"0 0 24 24\"\n",
              "       width=\"24px\">\n",
              "    <path d=\"M0 0h24v24H0V0z\" fill=\"none\"/>\n",
              "    <path d=\"M18.56 5.44l.94 2.06.94-2.06 2.06-.94-2.06-.94-.94-2.06-.94 2.06-2.06.94zm-11 1L8.5 8.5l.94-2.06 2.06-.94-2.06-.94L8.5 2.5l-.94 2.06-2.06.94zm10 10l.94 2.06.94-2.06 2.06-.94-2.06-.94-.94-2.06-.94 2.06-2.06.94z\"/><path d=\"M17.41 7.96l-1.37-1.37c-.4-.4-.92-.59-1.43-.59-.52 0-1.04.2-1.43.59L10.3 9.45l-7.72 7.72c-.78.78-.78 2.05 0 2.83L4 21.41c.39.39.9.59 1.41.59.51 0 1.02-.2 1.41-.59l7.78-7.78 2.81-2.81c.8-.78.8-2.07 0-2.86zM5.41 20L4 18.59l7.72-7.72 1.47 1.35L5.41 20z\"/>\n",
              "  </svg>\n",
              "      </button>\n",
              "      \n",
              "  <style>\n",
              "    .colab-df-container {\n",
              "      display:flex;\n",
              "      flex-wrap:wrap;\n",
              "      gap: 12px;\n",
              "    }\n",
              "\n",
              "    .colab-df-convert {\n",
              "      background-color: #E8F0FE;\n",
              "      border: none;\n",
              "      border-radius: 50%;\n",
              "      cursor: pointer;\n",
              "      display: none;\n",
              "      fill: #1967D2;\n",
              "      height: 32px;\n",
              "      padding: 0 0 0 0;\n",
              "      width: 32px;\n",
              "    }\n",
              "\n",
              "    .colab-df-convert:hover {\n",
              "      background-color: #E2EBFA;\n",
              "      box-shadow: 0px 1px 2px rgba(60, 64, 67, 0.3), 0px 1px 3px 1px rgba(60, 64, 67, 0.15);\n",
              "      fill: #174EA6;\n",
              "    }\n",
              "\n",
              "    [theme=dark] .colab-df-convert {\n",
              "      background-color: #3B4455;\n",
              "      fill: #D2E3FC;\n",
              "    }\n",
              "\n",
              "    [theme=dark] .colab-df-convert:hover {\n",
              "      background-color: #434B5C;\n",
              "      box-shadow: 0px 1px 3px 1px rgba(0, 0, 0, 0.15);\n",
              "      filter: drop-shadow(0px 1px 2px rgba(0, 0, 0, 0.3));\n",
              "      fill: #FFFFFF;\n",
              "    }\n",
              "  </style>\n",
              "\n",
              "      <script>\n",
              "        const buttonEl =\n",
              "          document.querySelector('#df-a17f726a-58b2-470f-b78e-be4a5be1dfed button.colab-df-convert');\n",
              "        buttonEl.style.display =\n",
              "          google.colab.kernel.accessAllowed ? 'block' : 'none';\n",
              "\n",
              "        async function convertToInteractive(key) {\n",
              "          const element = document.querySelector('#df-a17f726a-58b2-470f-b78e-be4a5be1dfed');\n",
              "          const dataTable =\n",
              "            await google.colab.kernel.invokeFunction('convertToInteractive',\n",
              "                                                     [key], {});\n",
              "          if (!dataTable) return;\n",
              "\n",
              "          const docLinkHtml = 'Like what you see? Visit the ' +\n",
              "            '<a target=\"_blank\" href=https://colab.research.google.com/notebooks/data_table.ipynb>data table notebook</a>'\n",
              "            + ' to learn more about interactive tables.';\n",
              "          element.innerHTML = '';\n",
              "          dataTable['output_type'] = 'display_data';\n",
              "          await google.colab.output.renderOutput(dataTable, element);\n",
              "          const docLink = document.createElement('div');\n",
              "          docLink.innerHTML = docLinkHtml;\n",
              "          element.appendChild(docLink);\n",
              "        }\n",
              "      </script>\n",
              "    </div>\n",
              "  </div>\n",
              "  "
            ]
          },
          "metadata": {},
          "execution_count": 42
        }
      ],
      "source": [
        "dz=pd.read_csv('/content/drive/MyDrive/KNN_Task_Dataset - KNN_Task_Dataset.csv')\n",
        "dz"
      ]
    },
    {
      "cell_type": "code",
      "execution_count": 43,
      "metadata": {
        "id": "alCU3TGbE-sd",
        "outputId": "aad5ec59-ee4b-48e2-f0a0-8b6ad857f9fd",
        "colab": {
          "base_uri": "https://localhost:8080/",
          "height": 206
        }
      },
      "outputs": [
        {
          "output_type": "execute_result",
          "data": {
            "text/plain": [
              "   Unnamed: 0  Unnamed: 1  Feature_1  Feature_2  Feature_3  Feature_4  \\\n",
              "0         NaN      0.0200     0.0371     0.0428     0.0207     0.0954   \n",
              "1         0.0      0.0453     0.0523     0.0843     0.0689     0.1183   \n",
              "2         1.0      0.0262     0.0582     0.1099     0.1083     0.0974   \n",
              "3         2.0      0.0100     0.0171     0.0623     0.0205     0.0205   \n",
              "4         3.0      0.0762     0.0666     0.0481     0.0394     0.0590   \n",
              "\n",
              "   Feature_5  Feature_6  Feature_7  Feature_8  Feature_9  Feature_10  \\\n",
              "0     0.0986     0.1539     0.1601     0.3109     0.2111      0.1609   \n",
              "1     0.2583     0.2156     0.3481     0.3337     0.2872      0.4918   \n",
              "2     0.2280     0.2431     0.3771     0.5598     0.6194      0.6333   \n",
              "3     0.0368     0.1098     0.1276     0.0598     0.1264      0.0881   \n",
              "4     0.0649     0.1209     0.2467     0.3564     0.4459      0.4152   \n",
              "\n",
              "   Feature_11  Feature_12  Feature_13  Feature_14 Diagnosis  \n",
              "0      0.1582      0.2238      0.0645      0.0660         R  \n",
              "1      0.6552      0.6919      0.7797      0.7464         R  \n",
              "2      0.7060      0.5544      0.5320      0.6479         R  \n",
              "3      0.1992      0.0184      0.2261      0.1729         R  \n",
              "4      0.3952      0.4256      0.4135      0.4528         R  "
            ],
            "text/html": [
              "\n",
              "  <div id=\"df-8fbed675-941c-43f9-922d-7a32fb3ed257\">\n",
              "    <div class=\"colab-df-container\">\n",
              "      <div>\n",
              "<style scoped>\n",
              "    .dataframe tbody tr th:only-of-type {\n",
              "        vertical-align: middle;\n",
              "    }\n",
              "\n",
              "    .dataframe tbody tr th {\n",
              "        vertical-align: top;\n",
              "    }\n",
              "\n",
              "    .dataframe thead th {\n",
              "        text-align: right;\n",
              "    }\n",
              "</style>\n",
              "<table border=\"1\" class=\"dataframe\">\n",
              "  <thead>\n",
              "    <tr style=\"text-align: right;\">\n",
              "      <th></th>\n",
              "      <th>Unnamed: 0</th>\n",
              "      <th>Unnamed: 1</th>\n",
              "      <th>Feature_1</th>\n",
              "      <th>Feature_2</th>\n",
              "      <th>Feature_3</th>\n",
              "      <th>Feature_4</th>\n",
              "      <th>Feature_5</th>\n",
              "      <th>Feature_6</th>\n",
              "      <th>Feature_7</th>\n",
              "      <th>Feature_8</th>\n",
              "      <th>Feature_9</th>\n",
              "      <th>Feature_10</th>\n",
              "      <th>Feature_11</th>\n",
              "      <th>Feature_12</th>\n",
              "      <th>Feature_13</th>\n",
              "      <th>Feature_14</th>\n",
              "      <th>Diagnosis</th>\n",
              "    </tr>\n",
              "  </thead>\n",
              "  <tbody>\n",
              "    <tr>\n",
              "      <th>0</th>\n",
              "      <td>NaN</td>\n",
              "      <td>0.0200</td>\n",
              "      <td>0.0371</td>\n",
              "      <td>0.0428</td>\n",
              "      <td>0.0207</td>\n",
              "      <td>0.0954</td>\n",
              "      <td>0.0986</td>\n",
              "      <td>0.1539</td>\n",
              "      <td>0.1601</td>\n",
              "      <td>0.3109</td>\n",
              "      <td>0.2111</td>\n",
              "      <td>0.1609</td>\n",
              "      <td>0.1582</td>\n",
              "      <td>0.2238</td>\n",
              "      <td>0.0645</td>\n",
              "      <td>0.0660</td>\n",
              "      <td>R</td>\n",
              "    </tr>\n",
              "    <tr>\n",
              "      <th>1</th>\n",
              "      <td>0.0</td>\n",
              "      <td>0.0453</td>\n",
              "      <td>0.0523</td>\n",
              "      <td>0.0843</td>\n",
              "      <td>0.0689</td>\n",
              "      <td>0.1183</td>\n",
              "      <td>0.2583</td>\n",
              "      <td>0.2156</td>\n",
              "      <td>0.3481</td>\n",
              "      <td>0.3337</td>\n",
              "      <td>0.2872</td>\n",
              "      <td>0.4918</td>\n",
              "      <td>0.6552</td>\n",
              "      <td>0.6919</td>\n",
              "      <td>0.7797</td>\n",
              "      <td>0.7464</td>\n",
              "      <td>R</td>\n",
              "    </tr>\n",
              "    <tr>\n",
              "      <th>2</th>\n",
              "      <td>1.0</td>\n",
              "      <td>0.0262</td>\n",
              "      <td>0.0582</td>\n",
              "      <td>0.1099</td>\n",
              "      <td>0.1083</td>\n",
              "      <td>0.0974</td>\n",
              "      <td>0.2280</td>\n",
              "      <td>0.2431</td>\n",
              "      <td>0.3771</td>\n",
              "      <td>0.5598</td>\n",
              "      <td>0.6194</td>\n",
              "      <td>0.6333</td>\n",
              "      <td>0.7060</td>\n",
              "      <td>0.5544</td>\n",
              "      <td>0.5320</td>\n",
              "      <td>0.6479</td>\n",
              "      <td>R</td>\n",
              "    </tr>\n",
              "    <tr>\n",
              "      <th>3</th>\n",
              "      <td>2.0</td>\n",
              "      <td>0.0100</td>\n",
              "      <td>0.0171</td>\n",
              "      <td>0.0623</td>\n",
              "      <td>0.0205</td>\n",
              "      <td>0.0205</td>\n",
              "      <td>0.0368</td>\n",
              "      <td>0.1098</td>\n",
              "      <td>0.1276</td>\n",
              "      <td>0.0598</td>\n",
              "      <td>0.1264</td>\n",
              "      <td>0.0881</td>\n",
              "      <td>0.1992</td>\n",
              "      <td>0.0184</td>\n",
              "      <td>0.2261</td>\n",
              "      <td>0.1729</td>\n",
              "      <td>R</td>\n",
              "    </tr>\n",
              "    <tr>\n",
              "      <th>4</th>\n",
              "      <td>3.0</td>\n",
              "      <td>0.0762</td>\n",
              "      <td>0.0666</td>\n",
              "      <td>0.0481</td>\n",
              "      <td>0.0394</td>\n",
              "      <td>0.0590</td>\n",
              "      <td>0.0649</td>\n",
              "      <td>0.1209</td>\n",
              "      <td>0.2467</td>\n",
              "      <td>0.3564</td>\n",
              "      <td>0.4459</td>\n",
              "      <td>0.4152</td>\n",
              "      <td>0.3952</td>\n",
              "      <td>0.4256</td>\n",
              "      <td>0.4135</td>\n",
              "      <td>0.4528</td>\n",
              "      <td>R</td>\n",
              "    </tr>\n",
              "  </tbody>\n",
              "</table>\n",
              "</div>\n",
              "      <button class=\"colab-df-convert\" onclick=\"convertToInteractive('df-8fbed675-941c-43f9-922d-7a32fb3ed257')\"\n",
              "              title=\"Convert this dataframe to an interactive table.\"\n",
              "              style=\"display:none;\">\n",
              "        \n",
              "  <svg xmlns=\"http://www.w3.org/2000/svg\" height=\"24px\"viewBox=\"0 0 24 24\"\n",
              "       width=\"24px\">\n",
              "    <path d=\"M0 0h24v24H0V0z\" fill=\"none\"/>\n",
              "    <path d=\"M18.56 5.44l.94 2.06.94-2.06 2.06-.94-2.06-.94-.94-2.06-.94 2.06-2.06.94zm-11 1L8.5 8.5l.94-2.06 2.06-.94-2.06-.94L8.5 2.5l-.94 2.06-2.06.94zm10 10l.94 2.06.94-2.06 2.06-.94-2.06-.94-.94-2.06-.94 2.06-2.06.94z\"/><path d=\"M17.41 7.96l-1.37-1.37c-.4-.4-.92-.59-1.43-.59-.52 0-1.04.2-1.43.59L10.3 9.45l-7.72 7.72c-.78.78-.78 2.05 0 2.83L4 21.41c.39.39.9.59 1.41.59.51 0 1.02-.2 1.41-.59l7.78-7.78 2.81-2.81c.8-.78.8-2.07 0-2.86zM5.41 20L4 18.59l7.72-7.72 1.47 1.35L5.41 20z\"/>\n",
              "  </svg>\n",
              "      </button>\n",
              "      \n",
              "  <style>\n",
              "    .colab-df-container {\n",
              "      display:flex;\n",
              "      flex-wrap:wrap;\n",
              "      gap: 12px;\n",
              "    }\n",
              "\n",
              "    .colab-df-convert {\n",
              "      background-color: #E8F0FE;\n",
              "      border: none;\n",
              "      border-radius: 50%;\n",
              "      cursor: pointer;\n",
              "      display: none;\n",
              "      fill: #1967D2;\n",
              "      height: 32px;\n",
              "      padding: 0 0 0 0;\n",
              "      width: 32px;\n",
              "    }\n",
              "\n",
              "    .colab-df-convert:hover {\n",
              "      background-color: #E2EBFA;\n",
              "      box-shadow: 0px 1px 2px rgba(60, 64, 67, 0.3), 0px 1px 3px 1px rgba(60, 64, 67, 0.15);\n",
              "      fill: #174EA6;\n",
              "    }\n",
              "\n",
              "    [theme=dark] .colab-df-convert {\n",
              "      background-color: #3B4455;\n",
              "      fill: #D2E3FC;\n",
              "    }\n",
              "\n",
              "    [theme=dark] .colab-df-convert:hover {\n",
              "      background-color: #434B5C;\n",
              "      box-shadow: 0px 1px 3px 1px rgba(0, 0, 0, 0.15);\n",
              "      filter: drop-shadow(0px 1px 2px rgba(0, 0, 0, 0.3));\n",
              "      fill: #FFFFFF;\n",
              "    }\n",
              "  </style>\n",
              "\n",
              "      <script>\n",
              "        const buttonEl =\n",
              "          document.querySelector('#df-8fbed675-941c-43f9-922d-7a32fb3ed257 button.colab-df-convert');\n",
              "        buttonEl.style.display =\n",
              "          google.colab.kernel.accessAllowed ? 'block' : 'none';\n",
              "\n",
              "        async function convertToInteractive(key) {\n",
              "          const element = document.querySelector('#df-8fbed675-941c-43f9-922d-7a32fb3ed257');\n",
              "          const dataTable =\n",
              "            await google.colab.kernel.invokeFunction('convertToInteractive',\n",
              "                                                     [key], {});\n",
              "          if (!dataTable) return;\n",
              "\n",
              "          const docLinkHtml = 'Like what you see? Visit the ' +\n",
              "            '<a target=\"_blank\" href=https://colab.research.google.com/notebooks/data_table.ipynb>data table notebook</a>'\n",
              "            + ' to learn more about interactive tables.';\n",
              "          element.innerHTML = '';\n",
              "          dataTable['output_type'] = 'display_data';\n",
              "          await google.colab.output.renderOutput(dataTable, element);\n",
              "          const docLink = document.createElement('div');\n",
              "          docLink.innerHTML = docLinkHtml;\n",
              "          element.appendChild(docLink);\n",
              "        }\n",
              "      </script>\n",
              "    </div>\n",
              "  </div>\n",
              "  "
            ]
          },
          "metadata": {},
          "execution_count": 43
        }
      ],
      "source": [
        "dz.head()"
      ]
    },
    {
      "cell_type": "code",
      "execution_count": 44,
      "metadata": {
        "id": "GfqzGBTiE-sd",
        "outputId": "503bd62a-4569-4a66-b624-c7a90b221a94",
        "colab": {
          "base_uri": "https://localhost:8080/"
        }
      },
      "outputs": [
        {
          "output_type": "execute_result",
          "data": {
            "text/plain": [
              "(208, 17)"
            ]
          },
          "metadata": {},
          "execution_count": 44
        }
      ],
      "source": [
        "dz.shape"
      ]
    },
    {
      "cell_type": "code",
      "execution_count": 45,
      "metadata": {
        "id": "9BK2DtCiE-sd",
        "outputId": "f3ec1d74-7738-480c-f3ac-7de6faec88bc",
        "colab": {
          "base_uri": "https://localhost:8080/"
        }
      },
      "outputs": [
        {
          "output_type": "execute_result",
          "data": {
            "text/plain": [
              "3536"
            ]
          },
          "metadata": {},
          "execution_count": 45
        }
      ],
      "source": [
        "dz.size"
      ]
    },
    {
      "cell_type": "markdown",
      "metadata": {
        "id": "SjWY_XQyE-se"
      },
      "source": [
        "2. Check null values count from data, remove the unnamed columns and null values columns from the data."
      ]
    },
    {
      "cell_type": "code",
      "execution_count": 46,
      "metadata": {
        "id": "HLwOhfNuE-se",
        "outputId": "048da929-6076-4655-a921-ce7232c643d3",
        "colab": {
          "base_uri": "https://localhost:8080/"
        }
      },
      "outputs": [
        {
          "output_type": "execute_result",
          "data": {
            "text/plain": [
              "Unnamed: 0    1\n",
              "Unnamed: 1    0\n",
              "Feature_1     0\n",
              "Feature_2     0\n",
              "Feature_3     0\n",
              "Feature_4     0\n",
              "Feature_5     0\n",
              "Feature_6     0\n",
              "Feature_7     0\n",
              "Feature_8     0\n",
              "Feature_9     0\n",
              "Feature_10    0\n",
              "Feature_11    0\n",
              "Feature_12    0\n",
              "Feature_13    0\n",
              "Feature_14    0\n",
              "Diagnosis     0\n",
              "dtype: int64"
            ]
          },
          "metadata": {},
          "execution_count": 46
        }
      ],
      "source": [
        "dz.isna().sum()"
      ]
    },
    {
      "cell_type": "code",
      "execution_count": 47,
      "metadata": {
        "id": "k0iT7ccDE-se",
        "outputId": "4901142a-774b-4326-fa68-3c9a970e4b21",
        "colab": {
          "base_uri": "https://localhost:8080/"
        }
      },
      "outputs": [
        {
          "output_type": "execute_result",
          "data": {
            "text/plain": [
              "Unnamed: 0    1\n",
              "Unnamed: 1    0\n",
              "Feature_1     0\n",
              "Feature_2     0\n",
              "Feature_3     0\n",
              "Feature_4     0\n",
              "Feature_5     0\n",
              "Feature_6     0\n",
              "Feature_7     0\n",
              "Feature_8     0\n",
              "Feature_9     0\n",
              "Feature_10    0\n",
              "Feature_11    0\n",
              "Feature_12    0\n",
              "Feature_13    0\n",
              "Feature_14    0\n",
              "Diagnosis     0\n",
              "dtype: int64"
            ]
          },
          "metadata": {},
          "execution_count": 47
        }
      ],
      "source": [
        "dz.isnull().sum()"
      ]
    },
    {
      "cell_type": "code",
      "execution_count": 48,
      "metadata": {
        "id": "eeNBgO8fE-se",
        "outputId": "d30abf7e-80d0-4047-a313-1756ebea2001",
        "colab": {
          "base_uri": "https://localhost:8080/"
        }
      },
      "outputs": [
        {
          "output_type": "execute_result",
          "data": {
            "text/plain": [
              "['Unnamed: 0',\n",
              " 'Unnamed: 1',\n",
              " 'Feature_1',\n",
              " 'Feature_2',\n",
              " 'Feature_3',\n",
              " 'Feature_4',\n",
              " 'Feature_5',\n",
              " 'Feature_6',\n",
              " 'Feature_7',\n",
              " 'Feature_8',\n",
              " 'Feature_9',\n",
              " 'Feature_10',\n",
              " 'Feature_11',\n",
              " 'Feature_12',\n",
              " 'Feature_13',\n",
              " 'Feature_14',\n",
              " 'Diagnosis']"
            ]
          },
          "metadata": {},
          "execution_count": 48
        }
      ],
      "source": [
        "dz.columns.tolist()"
      ]
    },
    {
      "cell_type": "code",
      "execution_count": 49,
      "metadata": {
        "id": "d8gdBSCcE-se"
      },
      "outputs": [],
      "source": [
        "dz = dz.drop(['Unnamed: 0', 'Unnamed: 1'], axis=1)"
      ]
    },
    {
      "cell_type": "code",
      "execution_count": 50,
      "metadata": {
        "id": "_rQ7Jb2eE-se",
        "outputId": "86c95574-a833-404e-b7a2-51ee07864a9b",
        "colab": {
          "base_uri": "https://localhost:8080/"
        }
      },
      "outputs": [
        {
          "output_type": "execute_result",
          "data": {
            "text/plain": [
              "['Feature_1',\n",
              " 'Feature_2',\n",
              " 'Feature_3',\n",
              " 'Feature_4',\n",
              " 'Feature_5',\n",
              " 'Feature_6',\n",
              " 'Feature_7',\n",
              " 'Feature_8',\n",
              " 'Feature_9',\n",
              " 'Feature_10',\n",
              " 'Feature_11',\n",
              " 'Feature_12',\n",
              " 'Feature_13',\n",
              " 'Feature_14',\n",
              " 'Diagnosis']"
            ]
          },
          "metadata": {},
          "execution_count": 50
        }
      ],
      "source": [
        "dz.columns.tolist()"
      ]
    },
    {
      "cell_type": "code",
      "execution_count": 51,
      "metadata": {
        "id": "OIBr6TRjE-se",
        "outputId": "8304ec5f-4fcb-4a4a-9529-a6acce65c02b",
        "colab": {
          "base_uri": "https://localhost:8080/"
        }
      },
      "outputs": [
        {
          "output_type": "execute_result",
          "data": {
            "text/plain": [
              "array(['R', 'M'], dtype=object)"
            ]
          },
          "metadata": {},
          "execution_count": 51
        }
      ],
      "source": [
        "dz['Diagnosis'].unique()"
      ]
    },
    {
      "cell_type": "code",
      "execution_count": 52,
      "metadata": {
        "id": "KwZF6z-DE-sf",
        "outputId": "c49fe6de-dcb5-4080-85a8-f6e6a234ba1c",
        "colab": {
          "base_uri": "https://localhost:8080/"
        }
      },
      "outputs": [
        {
          "output_type": "execute_result",
          "data": {
            "text/plain": [
              "2"
            ]
          },
          "metadata": {},
          "execution_count": 52
        }
      ],
      "source": [
        "dz['Diagnosis'].nunique()"
      ]
    },
    {
      "cell_type": "code",
      "execution_count": 53,
      "metadata": {
        "id": "qR47G4BPE-sf",
        "outputId": "15b91f84-8953-4ea5-dd34-558e52783be7",
        "colab": {
          "base_uri": "https://localhost:8080/"
        }
      },
      "outputs": [
        {
          "output_type": "execute_result",
          "data": {
            "text/plain": [
              "Feature_1     float64\n",
              "Feature_2     float64\n",
              "Feature_3     float64\n",
              "Feature_4     float64\n",
              "Feature_5     float64\n",
              "Feature_6     float64\n",
              "Feature_7     float64\n",
              "Feature_8     float64\n",
              "Feature_9     float64\n",
              "Feature_10    float64\n",
              "Feature_11    float64\n",
              "Feature_12    float64\n",
              "Feature_13    float64\n",
              "Feature_14    float64\n",
              "Diagnosis      object\n",
              "dtype: object"
            ]
          },
          "metadata": {},
          "execution_count": 53
        }
      ],
      "source": [
        "dz.dtypes"
      ]
    },
    {
      "cell_type": "code",
      "execution_count": 54,
      "metadata": {
        "id": "2MiOCau8E-sf",
        "outputId": "4231b4cd-fc2a-4656-e1a3-b9d4dc2bfb4e",
        "colab": {
          "base_uri": "https://localhost:8080/",
          "height": 423
        }
      },
      "outputs": [
        {
          "output_type": "execute_result",
          "data": {
            "text/plain": [
              "     Feature_1  Feature_2  Feature_3  Feature_4  Feature_5  Feature_6  \\\n",
              "0       0.0371     0.0428     0.0207     0.0954     0.0986     0.1539   \n",
              "1       0.0523     0.0843     0.0689     0.1183     0.2583     0.2156   \n",
              "2       0.0582     0.1099     0.1083     0.0974     0.2280     0.2431   \n",
              "3       0.0171     0.0623     0.0205     0.0205     0.0368     0.1098   \n",
              "4       0.0666     0.0481     0.0394     0.0590     0.0649     0.1209   \n",
              "..         ...        ...        ...        ...        ...        ...   \n",
              "203     0.0346     0.0168     0.0177     0.0393     0.1630     0.2028   \n",
              "204     0.0101     0.0298     0.0564     0.0760     0.0958     0.0990   \n",
              "205     0.0437     0.0180     0.0292     0.0351     0.1171     0.1257   \n",
              "206     0.0353     0.0490     0.0608     0.0167     0.1354     0.1465   \n",
              "207     0.0363     0.0136     0.0272     0.0214     0.0338     0.0655   \n",
              "\n",
              "     Feature_7  Feature_8  Feature_9  Feature_10  Feature_11  Feature_12  \\\n",
              "0       0.1601     0.3109     0.2111      0.1609      0.1582      0.2238   \n",
              "1       0.3481     0.3337     0.2872      0.4918      0.6552      0.6919   \n",
              "2       0.3771     0.5598     0.6194      0.6333      0.7060      0.5544   \n",
              "3       0.1276     0.0598     0.1264      0.0881      0.1992      0.0184   \n",
              "4       0.2467     0.3564     0.4459      0.4152      0.3952      0.4256   \n",
              "..         ...        ...        ...         ...         ...         ...   \n",
              "203     0.1694     0.2328     0.2684      0.3108      0.2933      0.2275   \n",
              "204     0.1018     0.1030     0.2154      0.3085      0.3425      0.2990   \n",
              "205     0.1178     0.1258     0.2529      0.2716      0.2374      0.1878   \n",
              "206     0.1123     0.1945     0.2354      0.2898      0.2812      0.1578   \n",
              "207     0.1400     0.1843     0.2354      0.2720      0.2442      0.1665   \n",
              "\n",
              "     Feature_13  Feature_14  Diagnosis  \n",
              "0        0.0645      0.0660          1  \n",
              "1        0.7797      0.7464          1  \n",
              "2        0.5320      0.6479          1  \n",
              "3        0.2261      0.1729          1  \n",
              "4        0.4135      0.4528          1  \n",
              "..          ...         ...        ...  \n",
              "203      0.0994      0.1801          0  \n",
              "204      0.1402      0.1235          0  \n",
              "205      0.0983      0.0683          0  \n",
              "206      0.0273      0.0673          0  \n",
              "207      0.0336      0.1302          0  \n",
              "\n",
              "[208 rows x 15 columns]"
            ],
            "text/html": [
              "\n",
              "  <div id=\"df-3ba02fc6-a499-4033-a346-7535cda04672\">\n",
              "    <div class=\"colab-df-container\">\n",
              "      <div>\n",
              "<style scoped>\n",
              "    .dataframe tbody tr th:only-of-type {\n",
              "        vertical-align: middle;\n",
              "    }\n",
              "\n",
              "    .dataframe tbody tr th {\n",
              "        vertical-align: top;\n",
              "    }\n",
              "\n",
              "    .dataframe thead th {\n",
              "        text-align: right;\n",
              "    }\n",
              "</style>\n",
              "<table border=\"1\" class=\"dataframe\">\n",
              "  <thead>\n",
              "    <tr style=\"text-align: right;\">\n",
              "      <th></th>\n",
              "      <th>Feature_1</th>\n",
              "      <th>Feature_2</th>\n",
              "      <th>Feature_3</th>\n",
              "      <th>Feature_4</th>\n",
              "      <th>Feature_5</th>\n",
              "      <th>Feature_6</th>\n",
              "      <th>Feature_7</th>\n",
              "      <th>Feature_8</th>\n",
              "      <th>Feature_9</th>\n",
              "      <th>Feature_10</th>\n",
              "      <th>Feature_11</th>\n",
              "      <th>Feature_12</th>\n",
              "      <th>Feature_13</th>\n",
              "      <th>Feature_14</th>\n",
              "      <th>Diagnosis</th>\n",
              "    </tr>\n",
              "  </thead>\n",
              "  <tbody>\n",
              "    <tr>\n",
              "      <th>0</th>\n",
              "      <td>0.0371</td>\n",
              "      <td>0.0428</td>\n",
              "      <td>0.0207</td>\n",
              "      <td>0.0954</td>\n",
              "      <td>0.0986</td>\n",
              "      <td>0.1539</td>\n",
              "      <td>0.1601</td>\n",
              "      <td>0.3109</td>\n",
              "      <td>0.2111</td>\n",
              "      <td>0.1609</td>\n",
              "      <td>0.1582</td>\n",
              "      <td>0.2238</td>\n",
              "      <td>0.0645</td>\n",
              "      <td>0.0660</td>\n",
              "      <td>1</td>\n",
              "    </tr>\n",
              "    <tr>\n",
              "      <th>1</th>\n",
              "      <td>0.0523</td>\n",
              "      <td>0.0843</td>\n",
              "      <td>0.0689</td>\n",
              "      <td>0.1183</td>\n",
              "      <td>0.2583</td>\n",
              "      <td>0.2156</td>\n",
              "      <td>0.3481</td>\n",
              "      <td>0.3337</td>\n",
              "      <td>0.2872</td>\n",
              "      <td>0.4918</td>\n",
              "      <td>0.6552</td>\n",
              "      <td>0.6919</td>\n",
              "      <td>0.7797</td>\n",
              "      <td>0.7464</td>\n",
              "      <td>1</td>\n",
              "    </tr>\n",
              "    <tr>\n",
              "      <th>2</th>\n",
              "      <td>0.0582</td>\n",
              "      <td>0.1099</td>\n",
              "      <td>0.1083</td>\n",
              "      <td>0.0974</td>\n",
              "      <td>0.2280</td>\n",
              "      <td>0.2431</td>\n",
              "      <td>0.3771</td>\n",
              "      <td>0.5598</td>\n",
              "      <td>0.6194</td>\n",
              "      <td>0.6333</td>\n",
              "      <td>0.7060</td>\n",
              "      <td>0.5544</td>\n",
              "      <td>0.5320</td>\n",
              "      <td>0.6479</td>\n",
              "      <td>1</td>\n",
              "    </tr>\n",
              "    <tr>\n",
              "      <th>3</th>\n",
              "      <td>0.0171</td>\n",
              "      <td>0.0623</td>\n",
              "      <td>0.0205</td>\n",
              "      <td>0.0205</td>\n",
              "      <td>0.0368</td>\n",
              "      <td>0.1098</td>\n",
              "      <td>0.1276</td>\n",
              "      <td>0.0598</td>\n",
              "      <td>0.1264</td>\n",
              "      <td>0.0881</td>\n",
              "      <td>0.1992</td>\n",
              "      <td>0.0184</td>\n",
              "      <td>0.2261</td>\n",
              "      <td>0.1729</td>\n",
              "      <td>1</td>\n",
              "    </tr>\n",
              "    <tr>\n",
              "      <th>4</th>\n",
              "      <td>0.0666</td>\n",
              "      <td>0.0481</td>\n",
              "      <td>0.0394</td>\n",
              "      <td>0.0590</td>\n",
              "      <td>0.0649</td>\n",
              "      <td>0.1209</td>\n",
              "      <td>0.2467</td>\n",
              "      <td>0.3564</td>\n",
              "      <td>0.4459</td>\n",
              "      <td>0.4152</td>\n",
              "      <td>0.3952</td>\n",
              "      <td>0.4256</td>\n",
              "      <td>0.4135</td>\n",
              "      <td>0.4528</td>\n",
              "      <td>1</td>\n",
              "    </tr>\n",
              "    <tr>\n",
              "      <th>...</th>\n",
              "      <td>...</td>\n",
              "      <td>...</td>\n",
              "      <td>...</td>\n",
              "      <td>...</td>\n",
              "      <td>...</td>\n",
              "      <td>...</td>\n",
              "      <td>...</td>\n",
              "      <td>...</td>\n",
              "      <td>...</td>\n",
              "      <td>...</td>\n",
              "      <td>...</td>\n",
              "      <td>...</td>\n",
              "      <td>...</td>\n",
              "      <td>...</td>\n",
              "      <td>...</td>\n",
              "    </tr>\n",
              "    <tr>\n",
              "      <th>203</th>\n",
              "      <td>0.0346</td>\n",
              "      <td>0.0168</td>\n",
              "      <td>0.0177</td>\n",
              "      <td>0.0393</td>\n",
              "      <td>0.1630</td>\n",
              "      <td>0.2028</td>\n",
              "      <td>0.1694</td>\n",
              "      <td>0.2328</td>\n",
              "      <td>0.2684</td>\n",
              "      <td>0.3108</td>\n",
              "      <td>0.2933</td>\n",
              "      <td>0.2275</td>\n",
              "      <td>0.0994</td>\n",
              "      <td>0.1801</td>\n",
              "      <td>0</td>\n",
              "    </tr>\n",
              "    <tr>\n",
              "      <th>204</th>\n",
              "      <td>0.0101</td>\n",
              "      <td>0.0298</td>\n",
              "      <td>0.0564</td>\n",
              "      <td>0.0760</td>\n",
              "      <td>0.0958</td>\n",
              "      <td>0.0990</td>\n",
              "      <td>0.1018</td>\n",
              "      <td>0.1030</td>\n",
              "      <td>0.2154</td>\n",
              "      <td>0.3085</td>\n",
              "      <td>0.3425</td>\n",
              "      <td>0.2990</td>\n",
              "      <td>0.1402</td>\n",
              "      <td>0.1235</td>\n",
              "      <td>0</td>\n",
              "    </tr>\n",
              "    <tr>\n",
              "      <th>205</th>\n",
              "      <td>0.0437</td>\n",
              "      <td>0.0180</td>\n",
              "      <td>0.0292</td>\n",
              "      <td>0.0351</td>\n",
              "      <td>0.1171</td>\n",
              "      <td>0.1257</td>\n",
              "      <td>0.1178</td>\n",
              "      <td>0.1258</td>\n",
              "      <td>0.2529</td>\n",
              "      <td>0.2716</td>\n",
              "      <td>0.2374</td>\n",
              "      <td>0.1878</td>\n",
              "      <td>0.0983</td>\n",
              "      <td>0.0683</td>\n",
              "      <td>0</td>\n",
              "    </tr>\n",
              "    <tr>\n",
              "      <th>206</th>\n",
              "      <td>0.0353</td>\n",
              "      <td>0.0490</td>\n",
              "      <td>0.0608</td>\n",
              "      <td>0.0167</td>\n",
              "      <td>0.1354</td>\n",
              "      <td>0.1465</td>\n",
              "      <td>0.1123</td>\n",
              "      <td>0.1945</td>\n",
              "      <td>0.2354</td>\n",
              "      <td>0.2898</td>\n",
              "      <td>0.2812</td>\n",
              "      <td>0.1578</td>\n",
              "      <td>0.0273</td>\n",
              "      <td>0.0673</td>\n",
              "      <td>0</td>\n",
              "    </tr>\n",
              "    <tr>\n",
              "      <th>207</th>\n",
              "      <td>0.0363</td>\n",
              "      <td>0.0136</td>\n",
              "      <td>0.0272</td>\n",
              "      <td>0.0214</td>\n",
              "      <td>0.0338</td>\n",
              "      <td>0.0655</td>\n",
              "      <td>0.1400</td>\n",
              "      <td>0.1843</td>\n",
              "      <td>0.2354</td>\n",
              "      <td>0.2720</td>\n",
              "      <td>0.2442</td>\n",
              "      <td>0.1665</td>\n",
              "      <td>0.0336</td>\n",
              "      <td>0.1302</td>\n",
              "      <td>0</td>\n",
              "    </tr>\n",
              "  </tbody>\n",
              "</table>\n",
              "<p>208 rows × 15 columns</p>\n",
              "</div>\n",
              "      <button class=\"colab-df-convert\" onclick=\"convertToInteractive('df-3ba02fc6-a499-4033-a346-7535cda04672')\"\n",
              "              title=\"Convert this dataframe to an interactive table.\"\n",
              "              style=\"display:none;\">\n",
              "        \n",
              "  <svg xmlns=\"http://www.w3.org/2000/svg\" height=\"24px\"viewBox=\"0 0 24 24\"\n",
              "       width=\"24px\">\n",
              "    <path d=\"M0 0h24v24H0V0z\" fill=\"none\"/>\n",
              "    <path d=\"M18.56 5.44l.94 2.06.94-2.06 2.06-.94-2.06-.94-.94-2.06-.94 2.06-2.06.94zm-11 1L8.5 8.5l.94-2.06 2.06-.94-2.06-.94L8.5 2.5l-.94 2.06-2.06.94zm10 10l.94 2.06.94-2.06 2.06-.94-2.06-.94-.94-2.06-.94 2.06-2.06.94z\"/><path d=\"M17.41 7.96l-1.37-1.37c-.4-.4-.92-.59-1.43-.59-.52 0-1.04.2-1.43.59L10.3 9.45l-7.72 7.72c-.78.78-.78 2.05 0 2.83L4 21.41c.39.39.9.59 1.41.59.51 0 1.02-.2 1.41-.59l7.78-7.78 2.81-2.81c.8-.78.8-2.07 0-2.86zM5.41 20L4 18.59l7.72-7.72 1.47 1.35L5.41 20z\"/>\n",
              "  </svg>\n",
              "      </button>\n",
              "      \n",
              "  <style>\n",
              "    .colab-df-container {\n",
              "      display:flex;\n",
              "      flex-wrap:wrap;\n",
              "      gap: 12px;\n",
              "    }\n",
              "\n",
              "    .colab-df-convert {\n",
              "      background-color: #E8F0FE;\n",
              "      border: none;\n",
              "      border-radius: 50%;\n",
              "      cursor: pointer;\n",
              "      display: none;\n",
              "      fill: #1967D2;\n",
              "      height: 32px;\n",
              "      padding: 0 0 0 0;\n",
              "      width: 32px;\n",
              "    }\n",
              "\n",
              "    .colab-df-convert:hover {\n",
              "      background-color: #E2EBFA;\n",
              "      box-shadow: 0px 1px 2px rgba(60, 64, 67, 0.3), 0px 1px 3px 1px rgba(60, 64, 67, 0.15);\n",
              "      fill: #174EA6;\n",
              "    }\n",
              "\n",
              "    [theme=dark] .colab-df-convert {\n",
              "      background-color: #3B4455;\n",
              "      fill: #D2E3FC;\n",
              "    }\n",
              "\n",
              "    [theme=dark] .colab-df-convert:hover {\n",
              "      background-color: #434B5C;\n",
              "      box-shadow: 0px 1px 3px 1px rgba(0, 0, 0, 0.15);\n",
              "      filter: drop-shadow(0px 1px 2px rgba(0, 0, 0, 0.3));\n",
              "      fill: #FFFFFF;\n",
              "    }\n",
              "  </style>\n",
              "\n",
              "      <script>\n",
              "        const buttonEl =\n",
              "          document.querySelector('#df-3ba02fc6-a499-4033-a346-7535cda04672 button.colab-df-convert');\n",
              "        buttonEl.style.display =\n",
              "          google.colab.kernel.accessAllowed ? 'block' : 'none';\n",
              "\n",
              "        async function convertToInteractive(key) {\n",
              "          const element = document.querySelector('#df-3ba02fc6-a499-4033-a346-7535cda04672');\n",
              "          const dataTable =\n",
              "            await google.colab.kernel.invokeFunction('convertToInteractive',\n",
              "                                                     [key], {});\n",
              "          if (!dataTable) return;\n",
              "\n",
              "          const docLinkHtml = 'Like what you see? Visit the ' +\n",
              "            '<a target=\"_blank\" href=https://colab.research.google.com/notebooks/data_table.ipynb>data table notebook</a>'\n",
              "            + ' to learn more about interactive tables.';\n",
              "          element.innerHTML = '';\n",
              "          dataTable['output_type'] = 'display_data';\n",
              "          await google.colab.output.renderOutput(dataTable, element);\n",
              "          const docLink = document.createElement('div');\n",
              "          docLink.innerHTML = docLinkHtml;\n",
              "          element.appendChild(docLink);\n",
              "        }\n",
              "      </script>\n",
              "    </div>\n",
              "  </div>\n",
              "  "
            ]
          },
          "metadata": {},
          "execution_count": 54
        }
      ],
      "source": [
        "label_encoder = LabelEncoder()\n",
        "dz['Diagnosis'] = label_encoder.fit_transform(dz['Diagnosis'])\n",
        "dz"
      ]
    },
    {
      "cell_type": "markdown",
      "metadata": {
        "id": "JXpaySXNE-sf"
      },
      "source": [
        "3. Create inpute features and Target feature from dataset and use Train|Test Split"
      ]
    },
    {
      "cell_type": "code",
      "execution_count": 55,
      "metadata": {
        "id": "9Uu-Q1SmE-sf"
      },
      "outputs": [],
      "source": [
        "X = dz.iloc[:, 0:13]\n",
        "y = dz['Diagnosis']"
      ]
    },
    {
      "cell_type": "code",
      "execution_count": 56,
      "metadata": {
        "id": "3PckPSdZE-sf"
      },
      "outputs": [],
      "source": [
        "# Split the data into train and test sets\n",
        "X_train, X_test, y_train, y_test = train_test_split(X, y, test_size=0.2, random_state=42)"
      ]
    },
    {
      "cell_type": "markdown",
      "metadata": {
        "id": "ioVMhGQ5E-sf"
      },
      "source": [
        "4. Use Standard Scaler for Data scaling"
      ]
    },
    {
      "cell_type": "code",
      "execution_count": 57,
      "metadata": {
        "id": "7mSDC3nTE-sf"
      },
      "outputs": [],
      "source": [
        "scaler = StandardScaler()"
      ]
    },
    {
      "cell_type": "code",
      "execution_count": 58,
      "metadata": {
        "id": "_WHUv7iQE-sg"
      },
      "outputs": [],
      "source": [
        "scaled_X_train = scaler.fit_transform(X_train)\n",
        "scaled_X_test = scaler.fit_transform(X_test)"
      ]
    },
    {
      "cell_type": "markdown",
      "metadata": {
        "id": "GFOkgiGhE-sg"
      },
      "source": [
        "5. Import KNN classifier model and fit the data into the model uising K=1"
      ]
    },
    {
      "cell_type": "code",
      "execution_count": 59,
      "metadata": {
        "id": "ImLkEvQQE-sg",
        "outputId": "4037de55-90ca-4d73-9e04-9cd3936fe973",
        "colab": {
          "base_uri": "https://localhost:8080/",
          "height": 74
        }
      },
      "outputs": [
        {
          "output_type": "execute_result",
          "data": {
            "text/plain": [
              "KNeighborsClassifier(n_neighbors=1)"
            ],
            "text/html": [
              "<style>#sk-container-id-4 {color: black;background-color: white;}#sk-container-id-4 pre{padding: 0;}#sk-container-id-4 div.sk-toggleable {background-color: white;}#sk-container-id-4 label.sk-toggleable__label {cursor: pointer;display: block;width: 100%;margin-bottom: 0;padding: 0.3em;box-sizing: border-box;text-align: center;}#sk-container-id-4 label.sk-toggleable__label-arrow:before {content: \"▸\";float: left;margin-right: 0.25em;color: #696969;}#sk-container-id-4 label.sk-toggleable__label-arrow:hover:before {color: black;}#sk-container-id-4 div.sk-estimator:hover label.sk-toggleable__label-arrow:before {color: black;}#sk-container-id-4 div.sk-toggleable__content {max-height: 0;max-width: 0;overflow: hidden;text-align: left;background-color: #f0f8ff;}#sk-container-id-4 div.sk-toggleable__content pre {margin: 0.2em;color: black;border-radius: 0.25em;background-color: #f0f8ff;}#sk-container-id-4 input.sk-toggleable__control:checked~div.sk-toggleable__content {max-height: 200px;max-width: 100%;overflow: auto;}#sk-container-id-4 input.sk-toggleable__control:checked~label.sk-toggleable__label-arrow:before {content: \"▾\";}#sk-container-id-4 div.sk-estimator input.sk-toggleable__control:checked~label.sk-toggleable__label {background-color: #d4ebff;}#sk-container-id-4 div.sk-label input.sk-toggleable__control:checked~label.sk-toggleable__label {background-color: #d4ebff;}#sk-container-id-4 input.sk-hidden--visually {border: 0;clip: rect(1px 1px 1px 1px);clip: rect(1px, 1px, 1px, 1px);height: 1px;margin: -1px;overflow: hidden;padding: 0;position: absolute;width: 1px;}#sk-container-id-4 div.sk-estimator {font-family: monospace;background-color: #f0f8ff;border: 1px dotted black;border-radius: 0.25em;box-sizing: border-box;margin-bottom: 0.5em;}#sk-container-id-4 div.sk-estimator:hover {background-color: #d4ebff;}#sk-container-id-4 div.sk-parallel-item::after {content: \"\";width: 100%;border-bottom: 1px solid gray;flex-grow: 1;}#sk-container-id-4 div.sk-label:hover label.sk-toggleable__label {background-color: #d4ebff;}#sk-container-id-4 div.sk-serial::before {content: \"\";position: absolute;border-left: 1px solid gray;box-sizing: border-box;top: 0;bottom: 0;left: 50%;z-index: 0;}#sk-container-id-4 div.sk-serial {display: flex;flex-direction: column;align-items: center;background-color: white;padding-right: 0.2em;padding-left: 0.2em;position: relative;}#sk-container-id-4 div.sk-item {position: relative;z-index: 1;}#sk-container-id-4 div.sk-parallel {display: flex;align-items: stretch;justify-content: center;background-color: white;position: relative;}#sk-container-id-4 div.sk-item::before, #sk-container-id-4 div.sk-parallel-item::before {content: \"\";position: absolute;border-left: 1px solid gray;box-sizing: border-box;top: 0;bottom: 0;left: 50%;z-index: -1;}#sk-container-id-4 div.sk-parallel-item {display: flex;flex-direction: column;z-index: 1;position: relative;background-color: white;}#sk-container-id-4 div.sk-parallel-item:first-child::after {align-self: flex-end;width: 50%;}#sk-container-id-4 div.sk-parallel-item:last-child::after {align-self: flex-start;width: 50%;}#sk-container-id-4 div.sk-parallel-item:only-child::after {width: 0;}#sk-container-id-4 div.sk-dashed-wrapped {border: 1px dashed gray;margin: 0 0.4em 0.5em 0.4em;box-sizing: border-box;padding-bottom: 0.4em;background-color: white;}#sk-container-id-4 div.sk-label label {font-family: monospace;font-weight: bold;display: inline-block;line-height: 1.2em;}#sk-container-id-4 div.sk-label-container {text-align: center;}#sk-container-id-4 div.sk-container {/* jupyter's `normalize.less` sets `[hidden] { display: none; }` but bootstrap.min.css set `[hidden] { display: none !important; }` so we also need the `!important` here to be able to override the default hidden behavior on the sphinx rendered scikit-learn.org. See: https://github.com/scikit-learn/scikit-learn/issues/21755 */display: inline-block !important;position: relative;}#sk-container-id-4 div.sk-text-repr-fallback {display: none;}</style><div id=\"sk-container-id-4\" class=\"sk-top-container\"><div class=\"sk-text-repr-fallback\"><pre>KNeighborsClassifier(n_neighbors=1)</pre><b>In a Jupyter environment, please rerun this cell to show the HTML representation or trust the notebook. <br />On GitHub, the HTML representation is unable to render, please try loading this page with nbviewer.org.</b></div><div class=\"sk-container\" hidden><div class=\"sk-item\"><div class=\"sk-estimator sk-toggleable\"><input class=\"sk-toggleable__control sk-hidden--visually\" id=\"sk-estimator-id-9\" type=\"checkbox\" checked><label for=\"sk-estimator-id-9\" class=\"sk-toggleable__label sk-toggleable__label-arrow\">KNeighborsClassifier</label><div class=\"sk-toggleable__content\"><pre>KNeighborsClassifier(n_neighbors=1)</pre></div></div></div></div></div>"
            ]
          },
          "metadata": {},
          "execution_count": 59
        }
      ],
      "source": [
        "knn = KNeighborsClassifier(n_neighbors=1)\n",
        "knn.fit(scaled_X_train, y_train)"
      ]
    },
    {
      "cell_type": "markdown",
      "metadata": {
        "id": "VGQL_oYWE-sg"
      },
      "source": [
        "6. Model Prediction and Evaluation"
      ]
    },
    {
      "cell_type": "code",
      "execution_count": 60,
      "metadata": {
        "id": "oZmRb_M8E-sg"
      },
      "outputs": [],
      "source": [
        "y_pred = knn.predict(scaled_X_test)"
      ]
    },
    {
      "cell_type": "code",
      "execution_count": 61,
      "metadata": {
        "id": "cxqg6eOTE-sg",
        "outputId": "1f5df8ad-1b26-4c80-a9ba-656cc2f320ca",
        "colab": {
          "base_uri": "https://localhost:8080/"
        }
      },
      "outputs": [
        {
          "output_type": "stream",
          "name": "stdout",
          "text": [
            "Accuracy: 0.8095238095238095\n",
            "\n",
            "Confusion Matrix: [[21  5]\n",
            " [ 3 13]]\n",
            "\n",
            "Recall 0.8125\n",
            "Precision 0.7222222222222222\n",
            "\n",
            "Classification Report               precision    recall  f1-score   support\n",
            "\n",
            "           0       0.88      0.81      0.84        26\n",
            "           1       0.72      0.81      0.76        16\n",
            "\n",
            "    accuracy                           0.81        42\n",
            "   macro avg       0.80      0.81      0.80        42\n",
            "weighted avg       0.82      0.81      0.81        42\n",
            "\n"
          ]
        }
      ],
      "source": [
        "accuracy = accuracy_score(y_test, y_pred)\n",
        "cm = confusion_matrix(y_test, y_pred)\n",
        "recall = recall_score(y_test, y_pred)\n",
        "precision = precision_score(y_test, y_pred)\n",
        "cf = classification_report(y_test, y_pred)\n",
        "print(\"Accuracy:\", accuracy)\n",
        "print()\n",
        "print(\"Confusion Matrix:\", cm)\n",
        "print()\n",
        "print(\"Recall\", recall)\n",
        "print('Precision', precision)\n",
        "print()\n",
        "print('Classification Report', cf)"
      ]
    },
    {
      "cell_type": "markdown",
      "metadata": {
        "id": "VoPm11S2E-sg"
      },
      "source": [
        "7. Use Elbow Method for Choosing K-Values"
      ]
    },
    {
      "cell_type": "code",
      "execution_count": 62,
      "metadata": {
        "id": "ilIYRJAUE-sg"
      },
      "outputs": [],
      "source": [
        "test_error_rates = []"
      ]
    },
    {
      "cell_type": "code",
      "execution_count": 63,
      "metadata": {
        "id": "UiiChH_PE-sg"
      },
      "outputs": [],
      "source": [
        "k_values = [i for i in range (1,21)]"
      ]
    },
    {
      "cell_type": "code",
      "execution_count": 64,
      "metadata": {
        "collapsed": true,
        "id": "ol1JTNYyE-sh"
      },
      "outputs": [],
      "source": [
        "for k in k_values:\n",
        "    knn = KNeighborsClassifier(n_neighbors=k)\n",
        "    knn.fit(scaled_X_train, y_train)\n",
        "    \n",
        "    y_pred_test = knn.predict(scaled_X_test)\n",
        "    \n",
        "    test_error = 1 - accuracy_score(y_test, y_pred_test)\n",
        "    test_error_rates.append(test_error)"
      ]
    },
    {
      "cell_type": "code",
      "execution_count": 65,
      "metadata": {
        "id": "Xv5SmFICE-sh",
        "outputId": "1bfdc769-611a-4682-c7ca-52291af4e63b",
        "colab": {
          "base_uri": "https://localhost:8080/"
        }
      },
      "outputs": [
        {
          "output_type": "stream",
          "name": "stdout",
          "text": [
            "[0.19047619047619047, 0.11904761904761907, 0.2142857142857143, 0.1428571428571429, 0.16666666666666663, 0.16666666666666663, 0.19047619047619047, 0.1428571428571429, 0.1428571428571429, 0.1428571428571429, 0.16666666666666663, 0.16666666666666663, 0.16666666666666663, 0.16666666666666663, 0.16666666666666663, 0.16666666666666663, 0.16666666666666663, 0.16666666666666663, 0.16666666666666663, 0.16666666666666663]\n"
          ]
        }
      ],
      "source": [
        "print(test_error_rates)"
      ]
    },
    {
      "cell_type": "code",
      "execution_count": 66,
      "metadata": {
        "id": "UXK-teLWE-sh",
        "outputId": "86765c05-2982-4cd5-d219-3b81fb33f2d9",
        "colab": {
          "base_uri": "https://localhost:8080/",
          "height": 295
        }
      },
      "outputs": [
        {
          "output_type": "display_data",
          "data": {
            "text/plain": [
              "<Figure size 432x288 with 1 Axes>"
            ],
            "image/png": "[encoded data removed]"
          },
          "metadata": {
            "needs_background": "light"
          }
        }
      ],
      "source": [
        "plt.plot(k_values, test_error_rates, label= 'Test Error', marker = 'o', c = 'r')\n",
        "plt.legend()\n",
        "plt.title('Test Error Graph')\n",
        "plt.xlabel(\"k- Values\")\n",
        "plt.ylabel(\"Error rate\")\n",
        "plt.show()"
      ]
    },
    {
      "cell_type": "markdown",
      "metadata": {
        "id": "qMBd8OiyE-sh"
      },
      "source": [
        "8. Re-evaluate the model using new K-value\n",
        "\n",
        "Our test error graph shows that lowest error rate is at 2.45 value of K. Therefore, New values for K is 2 as it takes an integer input."
      ]
    },
    {
      "cell_type": "code",
      "execution_count": 67,
      "metadata": {
        "id": "9rONgt_WE-sh",
        "outputId": "672a9c46-0191-49e9-bbb2-721fda80f518",
        "colab": {
          "base_uri": "https://localhost:8080/",
          "height": 74
        }
      },
      "outputs": [
        {
          "output_type": "execute_result",
          "data": {
            "text/plain": [
              "KNeighborsClassifier(n_neighbors=2)"
            ],
            "text/html": [
              "<style>#sk-container-id-5 {color: black;background-color: white;}#sk-container-id-5 pre{padding: 0;}#sk-container-id-5 div.sk-toggleable {background-color: white;}#sk-container-id-5 label.sk-toggleable__label {cursor: pointer;display: block;width: 100%;margin-bottom: 0;padding: 0.3em;box-sizing: border-box;text-align: center;}#sk-container-id-5 label.sk-toggleable__label-arrow:before {content: \"▸\";float: left;margin-right: 0.25em;color: #696969;}#sk-container-id-5 label.sk-toggleable__label-arrow:hover:before {color: black;}#sk-container-id-5 div.sk-estimator:hover label.sk-toggleable__label-arrow:before {color: black;}#sk-container-id-5 div.sk-toggleable__content {max-height: 0;max-width: 0;overflow: hidden;text-align: left;background-color: #f0f8ff;}#sk-container-id-5 div.sk-toggleable__content pre {margin: 0.2em;color: black;border-radius: 0.25em;background-color: #f0f8ff;}#sk-container-id-5 input.sk-toggleable__control:checked~div.sk-toggleable__content {max-height: 200px;max-width: 100%;overflow: auto;}#sk-container-id-5 input.sk-toggleable__control:checked~label.sk-toggleable__label-arrow:before {content: \"▾\";}#sk-container-id-5 div.sk-estimator input.sk-toggleable__control:checked~label.sk-toggleable__label {background-color: #d4ebff;}#sk-container-id-5 div.sk-label input.sk-toggleable__control:checked~label.sk-toggleable__label {background-color: #d4ebff;}#sk-container-id-5 input.sk-hidden--visually {border: 0;clip: rect(1px 1px 1px 1px);clip: rect(1px, 1px, 1px, 1px);height: 1px;margin: -1px;overflow: hidden;padding: 0;position: absolute;width: 1px;}#sk-container-id-5 div.sk-estimator {font-family: monospace;background-color: #f0f8ff;border: 1px dotted black;border-radius: 0.25em;box-sizing: border-box;margin-bottom: 0.5em;}#sk-container-id-5 div.sk-estimator:hover {background-color: #d4ebff;}#sk-container-id-5 div.sk-parallel-item::after {content: \"\";width: 100%;border-bottom: 1px solid gray;flex-grow: 1;}#sk-container-id-5 div.sk-label:hover label.sk-toggleable__label {background-color: #d4ebff;}#sk-container-id-5 div.sk-serial::before {content: \"\";position: absolute;border-left: 1px solid gray;box-sizing: border-box;top: 0;bottom: 0;left: 50%;z-index: 0;}#sk-container-id-5 div.sk-serial {display: flex;flex-direction: column;align-items: center;background-color: white;padding-right: 0.2em;padding-left: 0.2em;position: relative;}#sk-container-id-5 div.sk-item {position: relative;z-index: 1;}#sk-container-id-5 div.sk-parallel {display: flex;align-items: stretch;justify-content: center;background-color: white;position: relative;}#sk-container-id-5 div.sk-item::before, #sk-container-id-5 div.sk-parallel-item::before {content: \"\";position: absolute;border-left: 1px solid gray;box-sizing: border-box;top: 0;bottom: 0;left: 50%;z-index: -1;}#sk-container-id-5 div.sk-parallel-item {display: flex;flex-direction: column;z-index: 1;position: relative;background-color: white;}#sk-container-id-5 div.sk-parallel-item:first-child::after {align-self: flex-end;width: 50%;}#sk-container-id-5 div.sk-parallel-item:last-child::after {align-self: flex-start;width: 50%;}#sk-container-id-5 div.sk-parallel-item:only-child::after {width: 0;}#sk-container-id-5 div.sk-dashed-wrapped {border: 1px dashed gray;margin: 0 0.4em 0.5em 0.4em;box-sizing: border-box;padding-bottom: 0.4em;background-color: white;}#sk-container-id-5 div.sk-label label {font-family: monospace;font-weight: bold;display: inline-block;line-height: 1.2em;}#sk-container-id-5 div.sk-label-container {text-align: center;}#sk-container-id-5 div.sk-container {/* jupyter's `normalize.less` sets `[hidden] { display: none; }` but bootstrap.min.css set `[hidden] { display: none !important; }` so we also need the `!important` here to be able to override the default hidden behavior on the sphinx rendered scikit-learn.org. See: https://github.com/scikit-learn/scikit-learn/issues/21755 */display: inline-block !important;position: relative;}#sk-container-id-5 div.sk-text-repr-fallback {display: none;}</style><div id=\"sk-container-id-5\" class=\"sk-top-container\"><div class=\"sk-text-repr-fallback\"><pre>KNeighborsClassifier(n_neighbors=2)</pre><b>In a Jupyter environment, please rerun this cell to show the HTML representation or trust the notebook. <br />On GitHub, the HTML representation is unable to render, please try loading this page with nbviewer.org.</b></div><div class=\"sk-container\" hidden><div class=\"sk-item\"><div class=\"sk-estimator sk-toggleable\"><input class=\"sk-toggleable__control sk-hidden--visually\" id=\"sk-estimator-id-10\" type=\"checkbox\" checked><label for=\"sk-estimator-id-10\" class=\"sk-toggleable__label sk-toggleable__label-arrow\">KNeighborsClassifier</label><div class=\"sk-toggleable__content\"><pre>KNeighborsClassifier(n_neighbors=2)</pre></div></div></div></div></div>"
            ]
          },
          "metadata": {},
          "execution_count": 67
        }
      ],
      "source": [
        "knn = KNeighborsClassifier(n_neighbors=2)\n",
        "knn.fit(scaled_X_train, y_train)"
      ]
    },
    {
      "cell_type": "code",
      "execution_count": 68,
      "metadata": {
        "id": "M34fQJwKE-sh"
      },
      "outputs": [],
      "source": [
        "y_pred = knn.predict(scaled_X_test)"
      ]
    },
    {
      "cell_type": "code",
      "execution_count": 69,
      "metadata": {
        "id": "OUBrwHBiE-sh",
        "outputId": "635eaeb2-8686-42c1-eb9c-362c439a3e3e",
        "colab": {
          "base_uri": "https://localhost:8080/"
        }
      },
      "outputs": [
        {
          "output_type": "stream",
          "name": "stdout",
          "text": [
            "Accuracy: 0.8809523809523809\n",
            "\n",
            "Confusion Matrix: [[25  1]\n",
            " [ 4 12]]\n",
            "\n",
            "Recall 0.75\n",
            "Precision 0.9230769230769231\n",
            "\n",
            "Classification Report               precision    recall  f1-score   support\n",
            "\n",
            "           0       0.86      0.96      0.91        26\n",
            "           1       0.92      0.75      0.83        16\n",
            "\n",
            "    accuracy                           0.88        42\n",
            "   macro avg       0.89      0.86      0.87        42\n",
            "weighted avg       0.89      0.88      0.88        42\n",
            "\n"
          ]
        }
      ],
      "source": [
        "accuracy = accuracy_score(y_test, y_pred)\n",
        "cm = confusion_matrix(y_test, y_pred)\n",
        "recall = recall_score(y_test, y_pred)\n",
        "precision = precision_score(y_test, y_pred)\n",
        "cf = classification_report(y_test, y_pred)\n",
        "print(\"Accuracy:\", accuracy)\n",
        "print()\n",
        "print(\"Confusion Matrix:\", cm)\n",
        "print()\n",
        "print(\"Recall\", recall)\n",
        "print('Precision', precision)\n",
        "print()\n",
        "print('Classification Report', cf)"
      ]
    }
  ],
  "metadata": {
    "colab": {
      "provenance": []
    },
    "kernelspec": {
      "display_name": "Python 3 (ipykernel)",
      "language": "python",
      "name": "python3"
    },
    "language_info": {
      "codemirror_mode": {
        "name": "ipython",
        "version": 3
      },
      "file_extension": ".py",
      "mimetype": "text/x-python",
      "name": "python",
      "nbconvert_exporter": "python",
      "pygments_lexer": "ipython3",
      "version": "3.9.13"
    }
  },
  "nbformat": 4,
  "nbformat_minor": 0
}